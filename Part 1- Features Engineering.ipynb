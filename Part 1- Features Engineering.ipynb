{
 "cells": [
  {
   "cell_type": "markdown",
   "metadata": {},
   "source": [
    "# Module 5: Capstone Project"
   ]
  },
  {
   "cell_type": "markdown",
   "metadata": {},
   "source": [
    "# The Dataset:   Brazilian Aeronautics Accidents"
   ]
  },
  {
   "cell_type": "markdown",
   "metadata": {},
   "source": [
    "### The data for this project is from kaggle:\n",
    "https://www.kaggle.com/paulovasconcellos/aeronautics-accidents-in-brazil#aircrafts.csv"
   ]
  },
  {
   "cell_type": "markdown",
   "metadata": {},
   "source": [
    "## Importing Libraries"
   ]
  },
  {
   "cell_type": "code",
   "execution_count": 46,
   "metadata": {},
   "outputs": [],
   "source": [
    "# import libraries needed\n",
    "import pandas as pd\n",
    "import numpy as np\n",
    "import matplotlib.pyplot as plt\n",
    "%matplotlib inline\n",
    "plt.style.use('ggplot')\n",
    "\n",
    "import seaborn as sns\n",
    "\n",
    "import datetime\n",
    "\n",
    "import warnings\n",
    "warnings.filterwarnings(action='ignore')"
   ]
  },
  {
   "cell_type": "code",
   "execution_count": 47,
   "metadata": {},
   "outputs": [
    {
     "name": "stdout",
     "output_type": "stream",
     "text": [
      "aircrafts.csv\n",
      "\n"
     ]
    }
   ],
   "source": [
    "\n",
    "from subprocess import check_output\n",
    "print(check_output(['ls', 'aircrafts.csv']).decode('utf8'))"
   ]
  },
  {
   "cell_type": "markdown",
   "metadata": {},
   "source": [
    "# Part I:  Features Engineering"
   ]
  },
  {
   "cell_type": "markdown",
   "metadata": {},
   "source": [
    "## Initial data investigating  "
   ]
  },
  {
   "cell_type": "code",
   "execution_count": 48,
   "metadata": {},
   "outputs": [
    {
     "name": "stdout",
     "output_type": "stream",
     "text": [
      "shape of the data - (2043, 23)\n"
     ]
    },
    {
     "data": {
      "text/html": [
       "<div>\n",
       "<style scoped>\n",
       "    .dataframe tbody tr th:only-of-type {\n",
       "        vertical-align: middle;\n",
       "    }\n",
       "\n",
       "    .dataframe tbody tr th {\n",
       "        vertical-align: top;\n",
       "    }\n",
       "\n",
       "    .dataframe thead th {\n",
       "        text-align: right;\n",
       "    }\n",
       "</style>\n",
       "<table border=\"1\" class=\"dataframe\">\n",
       "  <thead>\n",
       "    <tr style=\"text-align: right;\">\n",
       "      <th></th>\n",
       "      <th>Unnamed: 0</th>\n",
       "      <th>aircraft_id</th>\n",
       "      <th>occurrence_id</th>\n",
       "      <th>registration</th>\n",
       "      <th>operator_id</th>\n",
       "      <th>equipment</th>\n",
       "      <th>manufacturer</th>\n",
       "      <th>model</th>\n",
       "      <th>engine_type</th>\n",
       "      <th>engines_amount</th>\n",
       "      <th>...</th>\n",
       "      <th>registration_country</th>\n",
       "      <th>registration_category</th>\n",
       "      <th>registration_aviation</th>\n",
       "      <th>origin_flight</th>\n",
       "      <th>destination_flight</th>\n",
       "      <th>operation_phase</th>\n",
       "      <th>type_operation</th>\n",
       "      <th>damage_level</th>\n",
       "      <th>fatalities_amount</th>\n",
       "      <th>extraction_day</th>\n",
       "    </tr>\n",
       "  </thead>\n",
       "  <tbody>\n",
       "    <tr>\n",
       "      <th>0</th>\n",
       "      <td>0</td>\n",
       "      <td>4</td>\n",
       "      <td>45602</td>\n",
       "      <td>PPGXE</td>\n",
       "      <td>241</td>\n",
       "      <td>AIRPLANE</td>\n",
       "      <td>NEIVA INDUSTRIA AERONAUTICA</td>\n",
       "      <td>56-C</td>\n",
       "      <td>PISTON</td>\n",
       "      <td>1.0</td>\n",
       "      <td>...</td>\n",
       "      <td>BRAZIL</td>\n",
       "      <td>PRI</td>\n",
       "      <td>INSTRUCTION</td>\n",
       "      <td>SDPW</td>\n",
       "      <td>SDPW</td>\n",
       "      <td>UNKNOWN</td>\n",
       "      <td>INSTRUCTION</td>\n",
       "      <td>SUBSTANTIAL</td>\n",
       "      <td>NaN</td>\n",
       "      <td>2016-07-30</td>\n",
       "    </tr>\n",
       "    <tr>\n",
       "      <th>1</th>\n",
       "      <td>1</td>\n",
       "      <td>40</td>\n",
       "      <td>53551</td>\n",
       "      <td>PPGSZ</td>\n",
       "      <td>160</td>\n",
       "      <td>AIRPLANE</td>\n",
       "      <td>NEIVA INDUSTRIA AERONAUTICA</td>\n",
       "      <td>56-C</td>\n",
       "      <td>PISTON</td>\n",
       "      <td>1.0</td>\n",
       "      <td>...</td>\n",
       "      <td>BRAZIL</td>\n",
       "      <td>PRI</td>\n",
       "      <td>INSTRUCTION</td>\n",
       "      <td>SBBP</td>\n",
       "      <td>SBBP</td>\n",
       "      <td>TAKEOFF</td>\n",
       "      <td>INSTRUCTION</td>\n",
       "      <td>LIGHT</td>\n",
       "      <td>NaN</td>\n",
       "      <td>2016-07-30</td>\n",
       "    </tr>\n",
       "    <tr>\n",
       "      <th>2</th>\n",
       "      <td>2</td>\n",
       "      <td>118</td>\n",
       "      <td>43721</td>\n",
       "      <td>PTCMT</td>\n",
       "      <td>1232</td>\n",
       "      <td>AIRPLANE</td>\n",
       "      <td>BEECH AIRCRAFT</td>\n",
       "      <td>95-B55</td>\n",
       "      <td>PISTON</td>\n",
       "      <td>2.0</td>\n",
       "      <td>...</td>\n",
       "      <td>BRAZIL</td>\n",
       "      <td>TPX</td>\n",
       "      <td>AEROTAXI</td>\n",
       "      <td>NaN</td>\n",
       "      <td>NaN</td>\n",
       "      <td>RUN AFTER LANDING</td>\n",
       "      <td>AEROTAXI</td>\n",
       "      <td>SUBSTANTIAL</td>\n",
       "      <td>NaN</td>\n",
       "      <td>2016-07-30</td>\n",
       "    </tr>\n",
       "    <tr>\n",
       "      <th>3</th>\n",
       "      <td>3</td>\n",
       "      <td>130</td>\n",
       "      <td>35556</td>\n",
       "      <td>PTEQI</td>\n",
       "      <td>3992</td>\n",
       "      <td>AIRPLANE</td>\n",
       "      <td>NEIVA INDUSTRIA AERONAUTICA</td>\n",
       "      <td>EMB-721C</td>\n",
       "      <td>PISTON</td>\n",
       "      <td>1.0</td>\n",
       "      <td>...</td>\n",
       "      <td>BRAZIL</td>\n",
       "      <td>TPP</td>\n",
       "      <td>PRIVATE</td>\n",
       "      <td>SNDU</td>\n",
       "      <td>SBSL</td>\n",
       "      <td>RUN AFTER LANDING</td>\n",
       "      <td>PRIVATE</td>\n",
       "      <td>LIGHT</td>\n",
       "      <td>NaN</td>\n",
       "      <td>2016-07-30</td>\n",
       "    </tr>\n",
       "    <tr>\n",
       "      <th>4</th>\n",
       "      <td>4</td>\n",
       "      <td>191</td>\n",
       "      <td>32579</td>\n",
       "      <td>PPVMM</td>\n",
       "      <td>4365</td>\n",
       "      <td>AIRPLANE</td>\n",
       "      <td>BOEING COMPANY</td>\n",
       "      <td>737-241</td>\n",
       "      <td>JET</td>\n",
       "      <td>2.0</td>\n",
       "      <td>...</td>\n",
       "      <td>BRAZIL</td>\n",
       "      <td>TPR</td>\n",
       "      <td>REGULAR</td>\n",
       "      <td>NaN</td>\n",
       "      <td>NaN</td>\n",
       "      <td>ASCENSION</td>\n",
       "      <td>REGULAR</td>\n",
       "      <td>NONE</td>\n",
       "      <td>NaN</td>\n",
       "      <td>2016-07-30</td>\n",
       "    </tr>\n",
       "  </tbody>\n",
       "</table>\n",
       "<p>5 rows × 23 columns</p>\n",
       "</div>"
      ],
      "text/plain": [
       "   Unnamed: 0  aircraft_id  occurrence_id registration  operator_id equipment  \\\n",
       "0           0            4          45602        PPGXE          241  AIRPLANE   \n",
       "1           1           40          53551        PPGSZ          160  AIRPLANE   \n",
       "2           2          118          43721        PTCMT         1232  AIRPLANE   \n",
       "3           3          130          35556        PTEQI         3992  AIRPLANE   \n",
       "4           4          191          32579        PPVMM         4365  AIRPLANE   \n",
       "\n",
       "                  manufacturer     model engine_type  engines_amount  \\\n",
       "0  NEIVA INDUSTRIA AERONAUTICA      56-C      PISTON             1.0   \n",
       "1  NEIVA INDUSTRIA AERONAUTICA      56-C      PISTON             1.0   \n",
       "2               BEECH AIRCRAFT    95-B55      PISTON             2.0   \n",
       "3  NEIVA INDUSTRIA AERONAUTICA  EMB-721C      PISTON             1.0   \n",
       "4               BOEING COMPANY   737-241         JET             2.0   \n",
       "\n",
       "       ...        registration_country  registration_category  \\\n",
       "0      ...                      BRAZIL                    PRI   \n",
       "1      ...                      BRAZIL                    PRI   \n",
       "2      ...                      BRAZIL                    TPX   \n",
       "3      ...                      BRAZIL                    TPP   \n",
       "4      ...                      BRAZIL                    TPR   \n",
       "\n",
       "   registration_aviation origin_flight destination_flight    operation_phase  \\\n",
       "0            INSTRUCTION          SDPW               SDPW            UNKNOWN   \n",
       "1            INSTRUCTION          SBBP               SBBP            TAKEOFF   \n",
       "2               AEROTAXI           NaN                NaN  RUN AFTER LANDING   \n",
       "3                PRIVATE          SNDU               SBSL  RUN AFTER LANDING   \n",
       "4                REGULAR           NaN                NaN          ASCENSION   \n",
       "\n",
       "  type_operation damage_level fatalities_amount extraction_day  \n",
       "0    INSTRUCTION  SUBSTANTIAL               NaN     2016-07-30  \n",
       "1    INSTRUCTION        LIGHT               NaN     2016-07-30  \n",
       "2       AEROTAXI  SUBSTANTIAL               NaN     2016-07-30  \n",
       "3        PRIVATE        LIGHT               NaN     2016-07-30  \n",
       "4        REGULAR         NONE               NaN     2016-07-30  \n",
       "\n",
       "[5 rows x 23 columns]"
      ]
     },
     "execution_count": 48,
     "metadata": {},
     "output_type": "execute_result"
    }
   ],
   "source": [
    "# assign the data to a file called 'data'\n",
    "# print out the shape (#rows, #columns), and the first 5 rows of the data\n",
    "\n",
    "data = pd.read_csv('aircrafts.csv', na_values=['****', '***',''],\n",
    "                        header=0,\n",
    "                        encoding='latin-1')\n",
    "print ('shape of the data -', data.shape)\n",
    "\n",
    "data.head()"
   ]
  },
  {
   "cell_type": "code",
   "execution_count": 49,
   "metadata": {},
   "outputs": [
    {
     "data": {
      "text/html": [
       "<div>\n",
       "<style scoped>\n",
       "    .dataframe tbody tr th:only-of-type {\n",
       "        vertical-align: middle;\n",
       "    }\n",
       "\n",
       "    .dataframe tbody tr th {\n",
       "        vertical-align: top;\n",
       "    }\n",
       "\n",
       "    .dataframe thead th {\n",
       "        text-align: right;\n",
       "    }\n",
       "</style>\n",
       "<table border=\"1\" class=\"dataframe\">\n",
       "  <thead>\n",
       "    <tr style=\"text-align: right;\">\n",
       "      <th></th>\n",
       "      <th>Unnamed: 0</th>\n",
       "      <th>aircraft_id</th>\n",
       "      <th>occurrence_id</th>\n",
       "      <th>registration</th>\n",
       "      <th>operator_id</th>\n",
       "      <th>equipment</th>\n",
       "      <th>manufacturer</th>\n",
       "      <th>model</th>\n",
       "      <th>engine_type</th>\n",
       "      <th>engines_amount</th>\n",
       "      <th>...</th>\n",
       "      <th>registration_country</th>\n",
       "      <th>registration_category</th>\n",
       "      <th>registration_aviation</th>\n",
       "      <th>origin_flight</th>\n",
       "      <th>destination_flight</th>\n",
       "      <th>operation_phase</th>\n",
       "      <th>type_operation</th>\n",
       "      <th>damage_level</th>\n",
       "      <th>fatalities_amount</th>\n",
       "      <th>extraction_day</th>\n",
       "    </tr>\n",
       "  </thead>\n",
       "  <tbody>\n",
       "    <tr>\n",
       "      <th>2038</th>\n",
       "      <td>2038</td>\n",
       "      <td>36454</td>\n",
       "      <td>53473</td>\n",
       "      <td>PUXXX4</td>\n",
       "      <td>3992</td>\n",
       "      <td>ULTRALIGHT</td>\n",
       "      <td>NaN</td>\n",
       "      <td>NaN</td>\n",
       "      <td>UNKNOWN</td>\n",
       "      <td>NaN</td>\n",
       "      <td>...</td>\n",
       "      <td>BRAZIL</td>\n",
       "      <td>TPP</td>\n",
       "      <td>PRIVATE</td>\n",
       "      <td>SDMH</td>\n",
       "      <td>SDMH</td>\n",
       "      <td>CRUISE</td>\n",
       "      <td>PRIVATE</td>\n",
       "      <td>SUBSTANTIAL</td>\n",
       "      <td>1.0</td>\n",
       "      <td>2016-07-30</td>\n",
       "    </tr>\n",
       "    <tr>\n",
       "      <th>2039</th>\n",
       "      <td>2039</td>\n",
       "      <td>36455</td>\n",
       "      <td>53556</td>\n",
       "      <td>PUXXX5</td>\n",
       "      <td>3992</td>\n",
       "      <td>ULTRALIGHT</td>\n",
       "      <td>NaN</td>\n",
       "      <td>NaN</td>\n",
       "      <td>UNKNOWN</td>\n",
       "      <td>NaN</td>\n",
       "      <td>...</td>\n",
       "      <td>BRAZIL</td>\n",
       "      <td>PET</td>\n",
       "      <td>EXPERIMENTAL</td>\n",
       "      <td>SDMH</td>\n",
       "      <td>SDMH</td>\n",
       "      <td>CRUISE</td>\n",
       "      <td>PRIVATE</td>\n",
       "      <td>DESTROYED</td>\n",
       "      <td>1.0</td>\n",
       "      <td>2016-07-30</td>\n",
       "    </tr>\n",
       "    <tr>\n",
       "      <th>2040</th>\n",
       "      <td>2040</td>\n",
       "      <td>38934</td>\n",
       "      <td>60649</td>\n",
       "      <td>ZPBIL</td>\n",
       "      <td>3992</td>\n",
       "      <td>AIRPLANE</td>\n",
       "      <td>BEECH AIRCRAFT</td>\n",
       "      <td>B36TC</td>\n",
       "      <td>PISTON</td>\n",
       "      <td>1.0</td>\n",
       "      <td>...</td>\n",
       "      <td>NaN</td>\n",
       "      <td>EXT</td>\n",
       "      <td>UNKNOWN</td>\n",
       "      <td>SDEN</td>\n",
       "      <td>SBNF</td>\n",
       "      <td>TAKEOFF</td>\n",
       "      <td>PRIVATE</td>\n",
       "      <td>SUBSTANTIAL</td>\n",
       "      <td>NaN</td>\n",
       "      <td>2016-07-30</td>\n",
       "    </tr>\n",
       "    <tr>\n",
       "      <th>2041</th>\n",
       "      <td>2041</td>\n",
       "      <td>38941</td>\n",
       "      <td>60879</td>\n",
       "      <td>ZPTVU</td>\n",
       "      <td>3992</td>\n",
       "      <td>UNKNOWN</td>\n",
       "      <td>WZQ-OKECIE</td>\n",
       "      <td>PZL 106 KRUK</td>\n",
       "      <td>UNKNOWN</td>\n",
       "      <td>NaN</td>\n",
       "      <td>...</td>\n",
       "      <td>NaN</td>\n",
       "      <td>EXT</td>\n",
       "      <td>UNKNOWN</td>\n",
       "      <td>NaN</td>\n",
       "      <td>NaN</td>\n",
       "      <td>MANEUVER</td>\n",
       "      <td>AGRICULTURAL</td>\n",
       "      <td>DESTROYED</td>\n",
       "      <td>2.0</td>\n",
       "      <td>2016-07-30</td>\n",
       "    </tr>\n",
       "    <tr>\n",
       "      <th>2042</th>\n",
       "      <td>2042</td>\n",
       "      <td>39147</td>\n",
       "      <td>28437</td>\n",
       "      <td>DGOMM</td>\n",
       "      <td>3992</td>\n",
       "      <td>AIRPLANE</td>\n",
       "      <td>PIPER AIRCRAFT</td>\n",
       "      <td>PA34</td>\n",
       "      <td>PISTON</td>\n",
       "      <td>2.0</td>\n",
       "      <td>...</td>\n",
       "      <td>GERMAN</td>\n",
       "      <td>NaN</td>\n",
       "      <td>UNKNOWN</td>\n",
       "      <td>NaN</td>\n",
       "      <td>NaN</td>\n",
       "      <td>UNKNOWN</td>\n",
       "      <td>UNKNOWN</td>\n",
       "      <td>DESTROYED</td>\n",
       "      <td>NaN</td>\n",
       "      <td>2016-07-30</td>\n",
       "    </tr>\n",
       "  </tbody>\n",
       "</table>\n",
       "<p>5 rows × 23 columns</p>\n",
       "</div>"
      ],
      "text/plain": [
       "      Unnamed: 0  aircraft_id  occurrence_id registration  operator_id  \\\n",
       "2038        2038        36454          53473       PUXXX4         3992   \n",
       "2039        2039        36455          53556       PUXXX5         3992   \n",
       "2040        2040        38934          60649        ZPBIL         3992   \n",
       "2041        2041        38941          60879        ZPTVU         3992   \n",
       "2042        2042        39147          28437        DGOMM         3992   \n",
       "\n",
       "       equipment    manufacturer         model engine_type  engines_amount  \\\n",
       "2038  ULTRALIGHT             NaN           NaN     UNKNOWN             NaN   \n",
       "2039  ULTRALIGHT             NaN           NaN     UNKNOWN             NaN   \n",
       "2040    AIRPLANE  BEECH AIRCRAFT         B36TC      PISTON             1.0   \n",
       "2041     UNKNOWN      WZQ-OKECIE  PZL 106 KRUK     UNKNOWN             NaN   \n",
       "2042    AIRPLANE  PIPER AIRCRAFT          PA34      PISTON             2.0   \n",
       "\n",
       "          ...        registration_country  registration_category  \\\n",
       "2038      ...                      BRAZIL                    TPP   \n",
       "2039      ...                      BRAZIL                    PET   \n",
       "2040      ...                         NaN                    EXT   \n",
       "2041      ...                         NaN                    EXT   \n",
       "2042      ...                      GERMAN                    NaN   \n",
       "\n",
       "      registration_aviation origin_flight destination_flight operation_phase  \\\n",
       "2038                PRIVATE          SDMH               SDMH          CRUISE   \n",
       "2039           EXPERIMENTAL          SDMH               SDMH          CRUISE   \n",
       "2040                UNKNOWN          SDEN               SBNF         TAKEOFF   \n",
       "2041                UNKNOWN           NaN                NaN        MANEUVER   \n",
       "2042                UNKNOWN           NaN                NaN         UNKNOWN   \n",
       "\n",
       "     type_operation damage_level fatalities_amount extraction_day  \n",
       "2038        PRIVATE  SUBSTANTIAL               1.0     2016-07-30  \n",
       "2039        PRIVATE    DESTROYED               1.0     2016-07-30  \n",
       "2040        PRIVATE  SUBSTANTIAL               NaN     2016-07-30  \n",
       "2041   AGRICULTURAL    DESTROYED               2.0     2016-07-30  \n",
       "2042        UNKNOWN    DESTROYED               NaN     2016-07-30  \n",
       "\n",
       "[5 rows x 23 columns]"
      ]
     },
     "execution_count": 49,
     "metadata": {},
     "output_type": "execute_result"
    }
   ],
   "source": [
    "data.tail()"
   ]
  },
  {
   "cell_type": "code",
   "execution_count": 50,
   "metadata": {},
   "outputs": [
    {
     "name": "stdout",
     "output_type": "stream",
     "text": [
      "columns: ['Unnamed: 0', 'aircraft_id', 'occurrence_id', 'registration', 'operator_id', 'equipment', 'manufacturer', 'model', 'engine_type', 'engines_amount', 'takeoff_max_weight (Lbs)', 'seatings_amount', 'year_manufacture', 'registration_country', 'registration_category', 'registration_aviation', 'origin_flight', 'destination_flight', 'operation_phase', 'type_operation', 'damage_level', 'fatalities_amount', 'extraction_day']\n"
     ]
    }
   ],
   "source": [
    "print ('columns:', list(data.columns))"
   ]
  },
  {
   "cell_type": "markdown",
   "metadata": {},
   "source": [
    "### Drop columns that are not relevant to this project"
   ]
  },
  {
   "cell_type": "code",
   "execution_count": 51,
   "metadata": {},
   "outputs": [],
   "source": [
    "data = data.drop(['Unnamed: 0','aircraft_id', 'occurrence_id', 'registration'], axis=1)\n",
    "data = data.drop(['operator_id','origin_flight', 'destination_flight', 'extraction_day'], axis=1)"
   ]
  },
  {
   "cell_type": "code",
   "execution_count": 52,
   "metadata": {},
   "outputs": [
    {
     "name": "stdout",
     "output_type": "stream",
     "text": [
      "<class 'pandas.core.frame.DataFrame'>\n",
      "RangeIndex: 2043 entries, 0 to 2042\n",
      "Data columns (total 15 columns):\n",
      "equipment                   2042 non-null object\n",
      "manufacturer                1933 non-null object\n",
      "model                       2028 non-null object\n",
      "engine_type                 2043 non-null object\n",
      "engines_amount              2034 non-null float64\n",
      "takeoff_max_weight (Lbs)    2043 non-null int64\n",
      "seatings_amount             2025 non-null float64\n",
      "year_manufacture            2039 non-null float64\n",
      "registration_country        2031 non-null object\n",
      "registration_category       2034 non-null object\n",
      "registration_aviation       2043 non-null object\n",
      "operation_phase             2042 non-null object\n",
      "type_operation              2043 non-null object\n",
      "damage_level                2043 non-null object\n",
      "fatalities_amount           355 non-null float64\n",
      "dtypes: float64(4), int64(1), object(10)\n",
      "memory usage: 239.5+ KB\n"
     ]
    }
   ],
   "source": [
    "data.info()"
   ]
  },
  {
   "cell_type": "code",
   "execution_count": 53,
   "metadata": {},
   "outputs": [
    {
     "data": {
      "text/html": [
       "<div>\n",
       "<style scoped>\n",
       "    .dataframe tbody tr th:only-of-type {\n",
       "        vertical-align: middle;\n",
       "    }\n",
       "\n",
       "    .dataframe tbody tr th {\n",
       "        vertical-align: top;\n",
       "    }\n",
       "\n",
       "    .dataframe thead th {\n",
       "        text-align: right;\n",
       "    }\n",
       "</style>\n",
       "<table border=\"1\" class=\"dataframe\">\n",
       "  <thead>\n",
       "    <tr style=\"text-align: right;\">\n",
       "      <th></th>\n",
       "      <th>engines_amount</th>\n",
       "      <th>takeoff_max_weight (Lbs)</th>\n",
       "      <th>seatings_amount</th>\n",
       "      <th>year_manufacture</th>\n",
       "      <th>fatalities_amount</th>\n",
       "    </tr>\n",
       "  </thead>\n",
       "  <tbody>\n",
       "    <tr>\n",
       "      <th>count</th>\n",
       "      <td>2034.000000</td>\n",
       "      <td>2043.000000</td>\n",
       "      <td>2025.000000</td>\n",
       "      <td>2039.000000</td>\n",
       "      <td>355.000000</td>\n",
       "    </tr>\n",
       "    <tr>\n",
       "      <th>mean</th>\n",
       "      <td>1.244346</td>\n",
       "      <td>11750.045032</td>\n",
       "      <td>8.928889</td>\n",
       "      <td>1902.494850</td>\n",
       "      <td>3.208451</td>\n",
       "    </tr>\n",
       "    <tr>\n",
       "      <th>std</th>\n",
       "      <td>0.483653</td>\n",
       "      <td>48511.565643</td>\n",
       "      <td>26.922299</td>\n",
       "      <td>402.024605</td>\n",
       "      <td>13.367108</td>\n",
       "    </tr>\n",
       "    <tr>\n",
       "      <th>min</th>\n",
       "      <td>0.000000</td>\n",
       "      <td>0.000000</td>\n",
       "      <td>0.000000</td>\n",
       "      <td>0.000000</td>\n",
       "      <td>1.000000</td>\n",
       "    </tr>\n",
       "    <tr>\n",
       "      <th>25%</th>\n",
       "      <td>1.000000</td>\n",
       "      <td>1860.000000</td>\n",
       "      <td>2.000000</td>\n",
       "      <td>1975.000000</td>\n",
       "      <td>1.000000</td>\n",
       "    </tr>\n",
       "    <tr>\n",
       "      <th>50%</th>\n",
       "      <td>1.000000</td>\n",
       "      <td>3600.000000</td>\n",
       "      <td>4.000000</td>\n",
       "      <td>1986.000000</td>\n",
       "      <td>2.000000</td>\n",
       "    </tr>\n",
       "    <tr>\n",
       "      <th>75%</th>\n",
       "      <td>2.000000</td>\n",
       "      <td>4750.000000</td>\n",
       "      <td>6.000000</td>\n",
       "      <td>1999.000000</td>\n",
       "      <td>2.000000</td>\n",
       "    </tr>\n",
       "    <tr>\n",
       "      <th>max</th>\n",
       "      <td>4.000000</td>\n",
       "      <td>630499.000000</td>\n",
       "      <td>301.000000</td>\n",
       "      <td>2015.000000</td>\n",
       "      <td>199.000000</td>\n",
       "    </tr>\n",
       "  </tbody>\n",
       "</table>\n",
       "</div>"
      ],
      "text/plain": [
       "       engines_amount  takeoff_max_weight (Lbs)  seatings_amount  \\\n",
       "count     2034.000000               2043.000000      2025.000000   \n",
       "mean         1.244346              11750.045032         8.928889   \n",
       "std          0.483653              48511.565643        26.922299   \n",
       "min          0.000000                  0.000000         0.000000   \n",
       "25%          1.000000               1860.000000         2.000000   \n",
       "50%          1.000000               3600.000000         4.000000   \n",
       "75%          2.000000               4750.000000         6.000000   \n",
       "max          4.000000             630499.000000       301.000000   \n",
       "\n",
       "       year_manufacture  fatalities_amount  \n",
       "count       2039.000000         355.000000  \n",
       "mean        1902.494850           3.208451  \n",
       "std          402.024605          13.367108  \n",
       "min            0.000000           1.000000  \n",
       "25%         1975.000000           1.000000  \n",
       "50%         1986.000000           2.000000  \n",
       "75%         1999.000000           2.000000  \n",
       "max         2015.000000         199.000000  "
      ]
     },
     "execution_count": 53,
     "metadata": {},
     "output_type": "execute_result"
    }
   ],
   "source": [
    "#  look at some statistical information on the numerical features\n",
    "# we can see the maximum and minimum values for some of the features\n",
    "\n",
    "data.describe()"
   ]
  },
  {
   "cell_type": "markdown",
   "metadata": {},
   "source": [
    "## Check for missing data"
   ]
  },
  {
   "cell_type": "code",
   "execution_count": 54,
   "metadata": {},
   "outputs": [
    {
     "data": {
      "text/plain": [
       "equipment                      1\n",
       "manufacturer                 110\n",
       "model                         15\n",
       "engine_type                    0\n",
       "engines_amount                 9\n",
       "takeoff_max_weight (Lbs)       0\n",
       "seatings_amount               18\n",
       "year_manufacture               4\n",
       "registration_country          12\n",
       "registration_category          9\n",
       "registration_aviation          0\n",
       "operation_phase                1\n",
       "type_operation                 0\n",
       "damage_level                   0\n",
       "fatalities_amount           1688\n",
       "dtype: int64"
      ]
     },
     "execution_count": 54,
     "metadata": {},
     "output_type": "execute_result"
    }
   ],
   "source": [
    "data.isnull().sum()"
   ]
  },
  {
   "cell_type": "markdown",
   "metadata": {},
   "source": [
    "## Inspect the data for each of the features that contain missing values"
   ]
  },
  {
   "cell_type": "code",
   "execution_count": 55,
   "metadata": {},
   "outputs": [
    {
     "name": "stdout",
     "output_type": "stream",
     "text": [
      "equipment: ['AIRPLANE' 'HELICOPTER' 'GLIDER' 'ULTRALIGHT' 'AMPHIBIOUS' 'UNKNOWN'\n",
      " 'AIRSHIP' nan]\n"
     ]
    },
    {
     "data": {
      "text/plain": [
       "AIRPLANE      1603\n",
       "HELICOPTER     264\n",
       "ULTRALIGHT     151\n",
       "GLIDER          11\n",
       "AMPHIBIOUS       6\n",
       "UNKNOWN          5\n",
       "AIRSHIP          2\n",
       "NaN              1\n",
       "Name: equipment, dtype: int64"
      ]
     },
     "execution_count": 55,
     "metadata": {},
     "output_type": "execute_result"
    }
   ],
   "source": [
    "# list the unique values of the equipment column and how many occurrances of each\n",
    "\n",
    "print ('equipment:' , data['equipment'].unique())\n",
    "data['equipment'].value_counts(dropna=False)"
   ]
  },
  {
   "cell_type": "code",
   "execution_count": 56,
   "metadata": {},
   "outputs": [],
   "source": [
    "# replace the 1 nan value with 'Unknown'\n",
    "data['equipment'] = data['equipment'].fillna('UKNOWN')"
   ]
  },
  {
   "cell_type": "code",
   "execution_count": 57,
   "metadata": {},
   "outputs": [
    {
     "name": "stdout",
     "output_type": "stream",
     "text": [
      "manufacturer: ['NEIVA INDUSTRIA AERONAUTICA' 'BEECH AIRCRAFT' 'BOEING COMPANY'\n",
      " 'CESSNA AIRCRAFT' 'PIPER AIRCRAFT' 'HELIBRAS' 'EMBRAER' 'XAVANTE'\n",
      " 'AERO BOERO' 'INDÚSTRIA PARANAENSE DE ESTRUTURAS'\n",
      " 'CIA AERONAUTICA PAULISTA' 'MAULE AIRCRAFT' 'BELL HELICOPTER' 'LEARJET'\n",
      " nan 'LAVIASA' 'NORTH AMERICAN' 'TWIN COMMANDER' 'ROBINSON HELICOPTER'\n",
      " 'MITSUBISHI' 'AGUSTA' 'SIKORSKY AIRCRAFT' 'MOONEY AIRCRAFT'\n",
      " 'AEROSPATIALE AND ALENIA' 'FABRICACAO PROPRIA' 'CHINCUL SACAIFI'\n",
      " 'EUROCOPTER FRANCE' 'HUGHES HELICOPTER' 'AIRBUS INDUSTRIE'\n",
      " 'EUROCOPTER DEUTSCHLAND' 'AIR TRACTOR' 'LET AIRCRAFT INDUSTRIES' 'FOKKER'\n",
      " 'MCDONNELL DOUGLAS' 'AMERICAN CHAMPION' 'AEROMOT' 'RAYTHEON AIRCRAFT'\n",
      " 'CIRRUS DESIGN' 'SCHWEIZER' 'CONSOLIDATED' 'HAWKER BEECHCRAFT' 'STEMME'\n",
      " 'ANTONIO CESAR DA SILVA AMARAL' 'NILSON SULZBACH PERES' 'BRITTEN-NORMAN'\n",
      " 'INPAER INDUSTRIA PAULISTA E AERONÁUTICA'\n",
      " 'FLYER INDUSTRIA AERONAUTICA LTDA' 'TERRA AMBIENTAL E INCORPORADORA LTDA'\n",
      " 'LAKE AIRCRAFT' 'AEROBRAVO LTDA' 'HENRIQUE HAMILTON CERQUEIRA SANTOS'\n",
      " 'COMMANDER' 'AIRCRAFT INDUSTRIES' 'PAULO CESAR CASTRO MOURA' 'ULTRALEGER'\n",
      " 'JAMES F GUZMAN' 'HERMANO VIANNA' 'MELO TRANSPORTES E LOGISTICA LTDA'\n",
      " 'SOCATA' 'TACILLO JACOB FROHLICH' 'JOAO HENRIQUE SIGNORELLI DRAEGER'\n",
      " 'DOREEDSON RIBEIRO PEREIRA' 'SAFARI HELICOPTER CO. INTERNATIONAL'\n",
      " 'STINSON AIRCRAFT' 'GLAUCO ANDRE MACHADO - ME' 'PILATUS'\n",
      " 'DIAMOND AIRCRAFT' 'JULIO CESAR MANDELLI' 'IVAN MOLCHAN'\n",
      " 'CLAIBER VIEIRA BORGES' 'ALLIANCE AIRCRAFT' 'AEROTEC'\n",
      " 'AEROALCOOL TECNOLOGIA LTDA' 'CHELBER VICENTINI LILISCHKIES'\n",
      " 'ROMULO ARAUJO / HUGO FREIRE M JUNIOR'\n",
      " 'VECTOR ULTRALIGHT INDUSTRIA E COMERCIO' 'AEROCENTRO AERONAVES'\n",
      " 'ANDRE A.FERDINAND' 'ORION LTDA' 'JOHN SEELY' 'TARSO GOROZEVSKI'\n",
      " 'GIPPSLAND' 'TECNAM CONSTRUZIONI AERONAUTICHE' 'SONEX LTDA'\n",
      " 'FABIANO COSTA' 'SERGIO MAURO' 'MD HELICOPTERS' 'EXTRA-FLUGZEUGBAU'\n",
      " 'TRIKE ICAROS LTDA' 'JOÃO ISMAEL VICENTINI' 'SHEMPP-HIRTH FLUGZEUBAU'\n",
      " 'ROBERTO VENICIO LIMA DANTAS' 'ISRAEL AIRCRAFT' 'MARCELO QUEIROZ DUARTE'\n",
      " 'ROBERT MOHR' 'EDEVALDO MARTINS FERREIRA' 'JOSE ROBERTO BARBOSA'\n",
      " 'JOAO BATISTA COUTINHO JUNIOR' 'ALBERTO BENEDITO PAULO IRALAH' 'KAPPA 77'\n",
      " 'JOAO L TEIXEIRA' 'ESC RIB PRET DE PIL VEIC AUTOPROPULSADO'\n",
      " 'CARLOS GILBERTO FRAGA MARQUES' 'MARCO AUGUSTO SCOBOZA GULIN'\n",
      " 'DIEGO CÂMARA MORAIS' 'FRANCISCO E.D.' 'AVENOR AUGUSTO MONTANDON'\n",
      " 'EDRA INDUSTRIA AERONAUTICA LTDA' 'ROBSON DIAS LIMA'\n",
      " 'HENRIQUE DRUMOND LIMA DE OLIVEIRA' 'EURIPIDES MOURA FERREIRA FILHO'\n",
      " 'ISMAEL FERNANDES NUNES JUNIOR' 'JOAO LUIZ FAUSTINO'\n",
      " 'MARIO CARLOS CARDOSO' 'JOSE ANTONIO ZATTAR JR' 'ANTONINO MOTA'\n",
      " 'CLINICA MEDICA PRIETO & ANTUNES LTDA.' 'ROCKWELL'\n",
      " 'SLICK AIRCRAFT COMPANY' 'WZQ-OKECIE']\n"
     ]
    },
    {
     "data": {
      "text/plain": [
       "NEIVA INDUSTRIA AERONAUTICA              388\n",
       "CESSNA AIRCRAFT                          354\n",
       "PIPER AIRCRAFT                           157\n",
       "EMBRAER                                  155\n",
       "AERO BOERO                               126\n",
       "BEECH AIRCRAFT                           117\n",
       "ROBINSON HELICOPTER                      117\n",
       "NaN                                      110\n",
       "BELL HELICOPTER                           40\n",
       "HELIBRAS                                  39\n",
       "BOEING COMPANY                            34\n",
       "EUROCOPTER FRANCE                         33\n",
       "AIR TRACTOR                               26\n",
       "CIRRUS DESIGN                             24\n",
       "CIA AERONAUTICA PAULISTA                  24\n",
       "AIRBUS INDUSTRIE                          20\n",
       "AEROSPATIALE AND ALENIA                   18\n",
       "SIKORSKY AIRCRAFT                         13\n",
       "RAYTHEON AIRCRAFT                         12\n",
       "AEROMOT                                   12\n",
       "AGUSTA                                    11\n",
       "MAULE AIRCRAFT                            10\n",
       "FOKKER                                    10\n",
       "XAVANTE                                    9\n",
       "HAWKER BEECHCRAFT                          9\n",
       "FABRICACAO PROPRIA                         8\n",
       "INDÚSTRIA PARANAENSE DE ESTRUTURAS         8\n",
       "LEARJET                                    7\n",
       "FLYER INDUSTRIA AERONAUTICA LTDA           7\n",
       "MITSUBISHI                                 5\n",
       "                                        ... \n",
       "MD HELICOPTERS                             1\n",
       "LAKE AIRCRAFT                              1\n",
       "HENRIQUE HAMILTON CERQUEIRA SANTOS         1\n",
       "SLICK AIRCRAFT COMPANY                     1\n",
       "ANTONINO MOTA                              1\n",
       "IVAN MOLCHAN                               1\n",
       "MARIO CARLOS CARDOSO                       1\n",
       "AVENOR AUGUSTO MONTANDON                   1\n",
       "DOREEDSON RIBEIRO PEREIRA                  1\n",
       "CLINICA MEDICA PRIETO & ANTUNES LTDA.      1\n",
       "JULIO CESAR MANDELLI                       1\n",
       "STEMME                                     1\n",
       "ROBERT MOHR                                1\n",
       "ROBSON DIAS LIMA                           1\n",
       "JOSE ROBERTO BARBOSA                       1\n",
       "ANTONIO CESAR DA SILVA AMARAL              1\n",
       "AIRCRAFT INDUSTRIES                        1\n",
       "MELO TRANSPORTES E LOGISTICA LTDA          1\n",
       "FABIANO COSTA                              1\n",
       "SAFARI HELICOPTER CO. INTERNATIONAL        1\n",
       "JOHN SEELY                                 1\n",
       "ALBERTO BENEDITO PAULO IRALAH              1\n",
       "AEROALCOOL TECNOLOGIA LTDA                 1\n",
       "ALLIANCE AIRCRAFT                          1\n",
       "SERGIO MAURO                               1\n",
       "GLAUCO ANDRE MACHADO - ME                  1\n",
       "HERMANO VIANNA                             1\n",
       "ISMAEL FERNANDES NUNES JUNIOR              1\n",
       "KAPPA 77                                   1\n",
       "CLAIBER VIEIRA BORGES                      1\n",
       "Name: manufacturer, Length: 120, dtype: int64"
      ]
     },
     "execution_count": 57,
     "metadata": {},
     "output_type": "execute_result"
    }
   ],
   "source": [
    "\n",
    "print ('manufacturer:' , data['manufacturer'].unique())\n",
    "\n",
    "data['manufacturer'].value_counts(dropna=False)"
   ]
  },
  {
   "cell_type": "code",
   "execution_count": 58,
   "metadata": {},
   "outputs": [],
   "source": [
    "# replace the nan values with 'Unknown'\n",
    "data['manufacturer'] = data['manufacturer'].fillna('UKNOWN')"
   ]
  },
  {
   "cell_type": "code",
   "execution_count": 59,
   "metadata": {
    "scrolled": false
   },
   "outputs": [
    {
     "name": "stdout",
     "output_type": "stream",
     "text": [
      "model: ['56-C' '95-B55' 'EMB-721C' '737-241' '182P' 'EMB-711C' 'PA-28-140'\n",
      " 'HB-350B' 'EMB-810C' 'A-122-B' 'PA-28R-200' 'AB-115' 'PA-30' '737-3K9'\n",
      " 'EMB-820C NAVAJO' 'PA-18' '550' 'C90' 'KW1' '182M' 'AB-180' 'EMB-810D'\n",
      " 'EMB-110P1' '56-C-1' 'EMB-820C CARAJA' '177B' 'CAP-4' '500' '172L' '402B'\n",
      " 'PA-34-200' '56-B' '210K' '310Q' 'M-7-235' 'EMB-201' 'AS 350 BA' '210L'\n",
      " '206B' '182F' '412' 'AS 355 F2' 'EMB-711T' 'N35' '35' 'EMB-720D'\n",
      " 'EMB-201A' '35A' 'EMB-202' 'EAGLE II' '208' 'EMB-721D' 'U206C' '650' '58'\n",
      " '150J' 'S550' '170A' 'EMB-200A' '182G' 'PA-25-235' 'A36' 'PA-31' 'A188B'\n",
      " 'A-122-A' 'EMB-712' '400A' 'E55' '172D' '172A' 'AT-6D' '500-S' '200'\n",
      " 'PA-39' '208B' 'EMB-110' 'U206E' 'EMB-710C' 'R22 BETA' 'F90' 'B90'\n",
      " 'EMB-720C' '206L-3' 'R44' '310K' 'MU-2B-36A' 'PA-18-150' 'PA-25-260'\n",
      " 'EMB-110P' 'T210N' 'NE-821' '95-C55' 'EMB-711ST' 'EMB-200' 'A109C'\n",
      " 'S-76A' 'U206F' '25' 'M20M' '337A' 'ATR-42-300' 'V35B' 'P35' 'T210L'\n",
      " 'V35' 'PA-32-300' 'PA-24-260' '180D' 'MU-2B-20' '170B' 'EMB-711B'\n",
      " 'RANS S-10-AVIAO' 'U206B' '180J' 'EMB-711' 'A150K' 'J3C-65' 'P210N'\n",
      " '150E' '210R' 'PA-34-200T' 'A188A' '172RG' 'R22' 'M-7-235B' 'SA 365 N1'\n",
      " '269A-1' 'AS 350 B2' 'U206G' '737-53A' 'A319-132' '210N' 'EMB-120ER'\n",
      " '707-323C' 'BO-105C' 'PA-34-220T' 'AS 350 B3' '560XL' 'A320-232'\n",
      " '737-46B' 'AT-401' 'L410UVP-E20' '737-3M8' '737-76N' 'L23' 'F28MK0100'\n",
      " 'ATR-42-320' 'MD-11' 'EMB-195' 'A320-231' '7GCBC' '150L' '737-322'\n",
      " 'AMT-600' 'AT-502' '182N' 'R44 II' 'IPE-02B' '430' '737-3S3' 'A320-233'\n",
      " '170' '172' '35-B33' 'PA-28-235' '737-8EH' '182C' '60' 'AS 365 N3'\n",
      " 'AMT-100' 'AT-401B' '182B' 'PA-28-180' 'SR22' '401' '407' 'PA-18-135'\n",
      " 'A330-203' 'AS 332 L2' 'EC 120 B' '337G' '269C-1' '185A' 'EMB-202A'\n",
      " 'A109S' 'A320-214' 'AT-402B' 'S-76C' 'DC-10-30F' '100' 'C90A'\n",
      " 'PA-32R-301' 'F33A' '172N' '152' '737-73S' 'ATR-72-212' 'EMB-500' 'SR20'\n",
      " 'PA-23' 'PA-28R-180' '172P' 'BAE125-800B' 'PA-31T' 'AMT-200' '150K'\n",
      " '737-73A' 'PA-11' 'PA-46-350P' '310R' 'AMT-200SO' 'ATR-72-212A' 'AT-802A'\n",
      " 'A330-223' '150M' 'B300' 'LAKE 250' 'A35' 'C90GTI' '45' 'HAWKER 800XP'\n",
      " 'S10-VT' 'G36' 'PA-36-300' 'EMB-710' '727-2J7' 'T210R' 'AT-402A'\n",
      " '737-3Q8' 'EMB-711A' 'RV-7A' 'RV-9' 'MISTRAL 582C' 'PA-31T1'\n",
      " 'LANCAIR SUPER E' '210H' '185' 'KIT FOX' '172C' 'BN-2A-9' 'FALCAO AG-21'\n",
      " 'AT-802' '172F' 'AS 355 N' '390' '210' 'CONQUEST 180' 'PA-31T2' 'PA-42'\n",
      " 'EXCEL CARGO' 'PARADISE' 'BN-2A-3' 'TRIKE' '300' '180G' '55C' 'EXPLORER'\n",
      " '182R' 'EMB-145LU' 'PA-28R-201' 'PA-23-160' 'FK-9 MKIV' 'ERJ 190-200 IGW'\n",
      " 'AW139' 'RV6' 'PA-23-250' 'EMB-121A1' 'A109E' 'RV-10' 'T207A' 'R182'\n",
      " 'ADVENTURE' 'RANS S9 CHAOS' 'PELICAN 500BR' 'KR-2S' '727-222' 'T182T'\n",
      " '737-8AS' '208 ANFIBIO' '737-36N' 'LA-4-200' 'STOL CH 701' '737-73V'\n",
      " 'EMB-145LR' 'R-12' 'T206H' 'COYOTE II' 'LANCAIR 320 FB' 'FOX V5 SUPER'\n",
      " 'FOX II' 'PA-32R-301T' 'AB139' 'TRIKE CX' '737-3Y0' 'MU-2B-60'\n",
      " 'VENTURA TOO' 'PA-WNE' 'AT-502B' 'ATR-42-500' '177RG' '206L-4' '210M'\n",
      " '172M' 'VIMANA R-12' 'S-61N' 'C17L' '112' 'COYOTE' 'TEPE 1' 'ORION F1-A'\n",
      " 'DYNAMIC WT-9' 'RV-9A' 'IKARUS C42B' '150F' '36' 'MISTRAL'\n",
      " 'PELICAN 500 BR' 'G58' 'D35' 'CORSARIO MK-5' 'CHRISTEN EAGLE II'\n",
      " 'P2002 SIERRA RG' 'TBM700N' 'SEAMAX M22' 'SG-ES COYOTE' 'D3' 'EMB-505'\n",
      " 'BO-105S' 'VENTURA' 'SAFARI' '31A' 'P2004 BRAVO' '108-2' 'ACROBATA'\n",
      " 'JABIRU J250' '180C' 'PC-12/47' 'A56TC' '56-C-1REBOCADOR' 'FENIX 0202'\n",
      " 'EC 225 LP' 'AA-155' 'TROJAN T-28B' 'C-45H' 'AW119MKII' '95-A55' '172S'\n",
      " 'ST-10' 'C90GT' 'M20TN' '310B' 'EC 135T1' 'EXPERIMENT' 'T210M' '525A'\n",
      " '212' 'B200' '560' 'U206D' '172R' 'AW109SP' 'DA20-C1' 'EC 130 B4' 'D55'\n",
      " '525B' 'FOX VECTOR V6' 'EXCEL' 'COMP AIR CA-7' 'FASCINATION D4' 'GV-2'\n",
      " 'FLOPES' 'ULTRALEVE' 'PA-28-181' '182E' nan 'PA-46R-350T' 'HT-295' 'R66'\n",
      " 'CONDOR MB' 'FALCON G3' 'AA-155 QUASAR LITE II' '727-264' 'PA-36-375'\n",
      " 'PC-6/B2-H4' 'RV-7' 'PARADISE P-1' 'FOX V5 ADVANCED' 'FALCAO AG-22'\n",
      " 'BRAVO 700' 'CMA' 'BUCKER' 'F1A EAGLE' 'TU206G' '8KCAB' '182D'\n",
      " 'PA-22-135' 'COMPAIR 8 ANFHIBIAN' 'CORSARIO MK5' 'T188C' 'GA200C'\n",
      " 'P 2002 SIERRA' 'AGUIA JA' '172G' '525' '690B' 'SONEX' '23' 'BK 117 C-2'\n",
      " 'AGUIAII' 'CP-750 BERYL' 'PETREL' '600N' 'TBM700B' 'EA 300/L' 'RV-6A'\n",
      " '180E' 'Adventure' 'Excel Cargo' 'KR-2' 'SEAWIND AVIAO' '140' 'DA 42 NG'\n",
      " '680' 'EC 155 B1' 'GESPI-2000' 'AC-12' 'N-592-420' 'SEDAN' 'K-51'\n",
      " 'NIMBUS 3D PLAN.' '560XLS+' '150H' 'BK117 C-2 ' 'PA-46-500TP' '695A'\n",
      " '182A' '182T' '510' '1124A' '182K' 'PITTS SPECIAL'\n",
      " 'BUMERANGUE EX-27 CROSS-CONTRY' '140A' '182J' 'BN-2A-7' 'A188' 'M20K'\n",
      " '182Q' 'MXT-7-180' 'A150M' 'M-6-235' 'PITTSS15 AVIAO' 'P64B' 'S2A'\n",
      " 'KP-2U-SOVA' 'PARADISE I' 'Bravo 700' 'KR-LAC' 'G FLY' 'CONQUEST 180LS'\n",
      " 'REMOS G3-600' 'SUPERPULSAR 100' 'FOZ 400' 'ASTRO AC-101' 'VENTURA IAM'\n",
      " 'CONQUEST' 'CONQUEST 160' 'P 92 ECHO' 'KOLBFLYER SS' 'AGUIA V'\n",
      " 'STORM-30B' 'CONQUEST 180 LSA' 'FOX V5' 'CORSARIOMK III'\n",
      " 'SUPER PETREL LS' 'RANS S6ESCOIOTE' 'ORION CLIPPER' 'KOLB FLYER SS'\n",
      " 'P2008' 'FOX NEWSTAR V7' 'P92 ECHO SUPER' 'RANS S-9' 'MCC VENTURA'\n",
      " 'FASCINATION' 'NYNJA' 'KF-IV' 'AC-16' 'LEGACY 600' '188B' 'PA34-200'\n",
      " 'HAWKER 4000' '685' 'M22 FW' '767-322' 'A-37B' '767-3P6' 'EMB145'\n",
      " '747-312M' 'MD82' 'DC-10-30' 'A340-541' 'C206' 'A340' 'A330-243'\n",
      " '767-328' 'MD11' '114' '206' 'N210' '210D' 'P2002 SIERRA DELUXE'\n",
      " 'SLICK 540' 'B36TC' 'PZL 106 KRUK' 'PA34']\n"
     ]
    },
    {
     "data": {
      "text/plain": [
       "AB-115            111\n",
       "EMB-202            78\n",
       "EMB-201A           72\n",
       "EMB-810C           61\n",
       "EMB-810D           38\n",
       "R44                35\n",
       "58                 34\n",
       "EMB-202A           33\n",
       "210L               31\n",
       "152                30\n",
       "A188B              30\n",
       "R22 BETA           28\n",
       "EMB-711C           28\n",
       "R44 II             28\n",
       "206B               26\n",
       "EMB-201            25\n",
       "EMB-720D           25\n",
       "CAP-4              24\n",
       "PA-25-235          23\n",
       "AS 350 B2          23\n",
       "R22                22\n",
       "PA-34-220T         21\n",
       "182P               19\n",
       "EMB-712            18\n",
       "56-C               18\n",
       "EMB-721C           18\n",
       "95-B55             17\n",
       "EMB-711ST          17\n",
       "SR22               17\n",
       "EMB-720C           16\n",
       "                 ... \n",
       "185A                1\n",
       "108-2               1\n",
       "REMOS G3-600        1\n",
       "SG-ES COYOTE        1\n",
       "TBM700B             1\n",
       "Bravo 700           1\n",
       "DC-10-30F           1\n",
       "23                  1\n",
       "B36TC               1\n",
       "LEGACY 600          1\n",
       "A188A               1\n",
       "GA200C              1\n",
       "95-A55              1\n",
       "BO-105S             1\n",
       "A320-231            1\n",
       "560                 1\n",
       "P92 ECHO SUPER      1\n",
       "PC-6/B2-H4          1\n",
       "MXT-7-180           1\n",
       "SLICK 540           1\n",
       "FASCINATION         1\n",
       "401                 1\n",
       "300                 1\n",
       "PA-39               1\n",
       "F1A EAGLE           1\n",
       "EMB-200             1\n",
       "RANS S9 CHAOS       1\n",
       "VENTURA IAM         1\n",
       "310K                1\n",
       "MISTRAL 582C        1\n",
       "Name: model, Length: 515, dtype: int64"
      ]
     },
     "execution_count": 59,
     "metadata": {},
     "output_type": "execute_result"
    }
   ],
   "source": [
    "print ('model:' , data['model'].unique())\n",
    "\n",
    "data['model'].value_counts(dropna=False)"
   ]
  },
  {
   "cell_type": "markdown",
   "metadata": {},
   "source": [
    "### There are so many different models involved.  I may decide to just use the manufacturer and drop the model feature.  "
   ]
  },
  {
   "cell_type": "code",
   "execution_count": 60,
   "metadata": {},
   "outputs": [],
   "source": [
    "# replace the nan values with 'Unknown'\n",
    "data['model'] = data['model'].fillna('UKNOWN')"
   ]
  },
  {
   "cell_type": "code",
   "execution_count": null,
   "metadata": {},
   "outputs": [],
   "source": []
  },
  {
   "cell_type": "code",
   "execution_count": 61,
   "metadata": {},
   "outputs": [
    {
     "name": "stdout",
     "output_type": "stream",
     "text": [
      "engine_type: ['PISTON' 'JET' 'TURBOSHAFT' 'TURBOPROP' 'WITHOUT TRACTION' 'UNKNOWN']\n"
     ]
    },
    {
     "data": {
      "text/plain": [
       "PISTON              1601\n",
       "TURBOSHAFT           148\n",
       "TURBOPROP            139\n",
       "JET                  117\n",
       "UNKNOWN               28\n",
       "WITHOUT TRACTION      10\n",
       "Name: engine_type, dtype: int64"
      ]
     },
     "execution_count": 61,
     "metadata": {},
     "output_type": "execute_result"
    }
   ],
   "source": [
    "data['engine_type'] = data['engine_type'].fillna('UKNOWN')\n",
    "print ('engine_type:' , data['engine_type'].unique())\n",
    "\n",
    "data['engine_type'].value_counts()"
   ]
  },
  {
   "cell_type": "code",
   "execution_count": 62,
   "metadata": {},
   "outputs": [
    {
     "name": "stdout",
     "output_type": "stream",
     "text": [
      "engines_amount: [ 1.  2.  0.  4.  3. nan]\n"
     ]
    },
    {
     "data": {
      "text/plain": [
       "1.0    1490\n",
       "2.0     502\n",
       "0.0      31\n",
       "3.0       7\n",
       "4.0       4\n",
       "Name: engines_amount, dtype: int64"
      ]
     },
     "execution_count": 62,
     "metadata": {},
     "output_type": "execute_result"
    }
   ],
   "source": [
    "print ('engines_amount:' , data['engines_amount'].unique())\n",
    "\n",
    "data['engines_amount'].value_counts()"
   ]
  },
  {
   "cell_type": "code",
   "execution_count": 63,
   "metadata": {},
   "outputs": [],
   "source": [
    "# replace the nan values with 1 for the engines amount\n",
    "\n",
    "data['engines_amount'] = data['engines_amount'].fillna(1)\n",
    "\n",
    "\n",
    "# convert engines_amount to data type string so the 'nan' data can be dropped\n",
    "#data['engines_amount'] = data['engines_amount'].astype(str)\n",
    "\n",
    "# select only the data for where the engines_amount is not a nan value\n",
    "#data = data[data['engines_amount']!= 'nan'] "
   ]
  },
  {
   "cell_type": "code",
   "execution_count": 64,
   "metadata": {},
   "outputs": [
    {
     "name": "stdout",
     "output_type": "stream",
     "text": [
      "registration category: ['PRI' 'TPX' 'TPP' 'TPR' 'ADE' 'M14' 'ADD' 'SAE-AG' 'PET' 'SAE' 'PIN'\n",
      " 'SAE-AL' 'SAE-AP' 'ADF' 'AIF' 'S00' 'TPN' 'AID' 'PEX' nan 'PUH' 'D07'\n",
      " 'M24' 'EXT']\n"
     ]
    },
    {
     "data": {
      "text/plain": [
       "TPP       760\n",
       "PRI       359\n",
       "TPX       272\n",
       "SAE-AG    196\n",
       "PET       193\n",
       "TPR        85\n",
       "SAE        57\n",
       "ADE        38\n",
       "EXT        16\n",
       "PIN        11\n",
       "PEX         9\n",
       "AIF         6\n",
       "ADF         5\n",
       "S00         5\n",
       "TPN         5\n",
       "M14         4\n",
       "SAE-AP      4\n",
       "SAE-AL      3\n",
       "ADD         2\n",
       "D07         1\n",
       "M24         1\n",
       "AID         1\n",
       "PUH         1\n",
       "Name: registration_category, dtype: int64"
      ]
     },
     "execution_count": 64,
     "metadata": {},
     "output_type": "execute_result"
    }
   ],
   "source": [
    "print ('registration category:' , data['registration_category'].unique())\n",
    "\n",
    "data['registration_category'].value_counts()"
   ]
  },
  {
   "cell_type": "code",
   "execution_count": 65,
   "metadata": {},
   "outputs": [
    {
     "name": "stdout",
     "output_type": "stream",
     "text": [
      "registration aviation: ['INSTRUCTION' 'AEROTAXI' 'PRIVATE' 'REGULAR' 'DIRECT ADMINISTRATION'\n",
      " 'MULTIPLE' 'AGRICULTURAL' 'EXPERIMENTAL' 'SPECIALIZED'\n",
      " 'INDIRECT ADMINISTRATION' 'NOT REGULAR' 'UNKNOWN' 'HISTORIC']\n"
     ]
    },
    {
     "data": {
      "text/plain": [
       "PRIVATE                    760\n",
       "INSTRUCTION                370\n",
       "AEROTAXI                   272\n",
       "EXPERIMENTAL               202\n",
       "AGRICULTURAL               196\n",
       "REGULAR                     85\n",
       "SPECIALIZED                 64\n",
       "DIRECT ADMINISTRATION       45\n",
       "UNKNOWN                     25\n",
       "MULTIPLE                    11\n",
       "INDIRECT ADMINISTRATION      7\n",
       "NOT REGULAR                  5\n",
       "HISTORIC                     1\n",
       "Name: registration_aviation, dtype: int64"
      ]
     },
     "execution_count": 65,
     "metadata": {},
     "output_type": "execute_result"
    }
   ],
   "source": [
    "print ('registration aviation:' , data['registration_aviation'].unique())\n",
    "\n",
    "data['registration_aviation'].value_counts()"
   ]
  },
  {
   "cell_type": "code",
   "execution_count": 66,
   "metadata": {},
   "outputs": [
    {
     "name": "stdout",
     "output_type": "stream",
     "text": [
      "seatings_amount: [  2.   6. 117.   4.   7.   3. 142.  10.   1.  21.   5.  15.  20.  11.\n",
      "   8.  19.  13.  17.   9.  14.  50.   0. 125. 154.  34.  49. 184. 179.\n",
      " 157. 153. 115. 301. 183. 151. 148. 156. 185. 188.  32.  52. 107. 166.\n",
      " 242.  27.  71.  73. 240. 173.  54. 197. 194. 152.  12. 193.  75.  16.\n",
      "  nan]\n"
     ]
    },
    {
     "data": {
      "text/plain": [
       " 2.0      444\n",
       " 6.0      382\n",
       " 1.0      328\n",
       " 4.0      320\n",
       " 7.0      133\n",
       " 0.0       83\n",
       " 5.0       52\n",
       " 3.0       48\n",
       " 10.0      42\n",
       " 8.0       37\n",
       " 11.0      27\n",
       "NaN        18\n",
       " 14.0      14\n",
       " 21.0      11\n",
       " 107.0      9\n",
       " 184.0      8\n",
       " 50.0       7\n",
       " 9.0        7\n",
       " 156.0      7\n",
       " 17.0       5\n",
       " 73.0       5\n",
       " 20.0       5\n",
       " 125.0      4\n",
       " 153.0      3\n",
       " 154.0      3\n",
       " 15.0       3\n",
       " 54.0       3\n",
       " 19.0       2\n",
       " 52.0       2\n",
       " 193.0      2\n",
       " 71.0       2\n",
       " 242.0      2\n",
       " 32.0       1\n",
       " 117.0      1\n",
       " 185.0      1\n",
       " 179.0      1\n",
       " 301.0      1\n",
       " 75.0       1\n",
       " 194.0      1\n",
       " 166.0      1\n",
       " 115.0      1\n",
       " 197.0      1\n",
       " 142.0      1\n",
       " 173.0      1\n",
       " 188.0      1\n",
       " 13.0       1\n",
       " 183.0      1\n",
       " 157.0      1\n",
       " 16.0       1\n",
       " 12.0       1\n",
       " 152.0      1\n",
       " 34.0       1\n",
       " 49.0       1\n",
       " 240.0      1\n",
       " 148.0      1\n",
       " 151.0      1\n",
       " 27.0       1\n",
       "Name: seatings_amount, dtype: int64"
      ]
     },
     "execution_count": 66,
     "metadata": {},
     "output_type": "execute_result"
    }
   ],
   "source": [
    "print ('seatings_amount:' , data['seatings_amount'].unique())\n",
    "\n",
    "data['seatings_amount'].value_counts(dropna=False)"
   ]
  },
  {
   "cell_type": "code",
   "execution_count": 67,
   "metadata": {},
   "outputs": [],
   "source": [
    "# convert seatings_amount to data type string so the 'nan' data can be dropped\n",
    "data['seatings_amount'] = data['seatings_amount'].astype(str)\n",
    "\n",
    "# select only the data for where the seatings_amount is not a nan value\n",
    "data = data[data['seatings_amount']!= 'nan'] "
   ]
  },
  {
   "cell_type": "code",
   "execution_count": 68,
   "metadata": {},
   "outputs": [
    {
     "name": "stdout",
     "output_type": "stream",
     "text": [
      "year_manufacture: [1962. 1960. 1966. 1979. 1975. 1974. 1977. 1973. 1983. 1982. 1978. 1988.\n",
      " 1990. 1976. 1951. 1981. 1980. 1989. 1969. 1986. 1970. 1947. 1972. 1971.\n",
      " 1991. 1963. 1940. 1992. 1961.    0. 1993. 1994. 1987. 1968. 1950. 1964.\n",
      " 1984. 1995. 1985. 1942. 1953. 2001. 1946. 1997. 1948. 1996. 1967. 1952.\n",
      " 1956. 1945. 1965. 1999. 2004. 2000. 2005. 1998. 2003. 2006. 1958. 2002.\n",
      " 2007. 1954. 1949. 2008. 2009. 2010. 1959. 1957. 1936. 2011. 1955. 2012.\n",
      " 2013.   nan]\n"
     ]
    },
    {
     "data": {
      "text/plain": [
       " 0.0       84\n",
       " 1980.0    82\n",
       " 1976.0    81\n",
       " 1992.0    80\n",
       " 1974.0    69\n",
       " 1973.0    65\n",
       " 1977.0    63\n",
       " 1993.0    61\n",
       " 1979.0    61\n",
       " 1981.0    60\n",
       " 2007.0    57\n",
       " 1990.0    53\n",
       " 2008.0    50\n",
       " 2010.0    45\n",
       " 1978.0    44\n",
       " 1998.0    42\n",
       " 1991.0    42\n",
       " 2012.0    41\n",
       " 2006.0    41\n",
       " 1975.0    39\n",
       " 1997.0    38\n",
       " 2011.0    37\n",
       " 1982.0    37\n",
       " 2009.0    37\n",
       " 2005.0    36\n",
       " 1988.0    35\n",
       " 2001.0    34\n",
       " 2004.0    34\n",
       " 1995.0    31\n",
       " 1972.0    29\n",
       "           ..\n",
       " 1968.0    16\n",
       " 1984.0    16\n",
       " 2013.0    14\n",
       " 1961.0    13\n",
       " 1946.0    12\n",
       " 1966.0    12\n",
       " 1996.0    11\n",
       " 1963.0    11\n",
       " 1960.0    11\n",
       " 1947.0     9\n",
       " 1965.0     7\n",
       " 1948.0     6\n",
       " 1964.0     5\n",
       " 1950.0     5\n",
       " 1967.0     5\n",
       " 1951.0     5\n",
       " 1958.0     3\n",
       " 1954.0     3\n",
       " 1949.0     3\n",
       " 1953.0     3\n",
       " 1956.0     2\n",
       " 1957.0     2\n",
       " 1940.0     2\n",
       " 1959.0     1\n",
       " 1955.0     1\n",
       " 1945.0     1\n",
       "NaN         1\n",
       " 1936.0     1\n",
       " 1952.0     1\n",
       " 1942.0     1\n",
       "Name: year_manufacture, Length: 74, dtype: int64"
      ]
     },
     "execution_count": 68,
     "metadata": {},
     "output_type": "execute_result"
    }
   ],
   "source": [
    "print ('year_manufacture:' , data['year_manufacture'].unique())\n",
    "\n",
    "data['year_manufacture'].value_counts(dropna=False)"
   ]
  },
  {
   "cell_type": "code",
   "execution_count": 69,
   "metadata": {},
   "outputs": [],
   "source": [
    "# convert year_manufacture to data type string so the 'nan' data can be dropped\n",
    "data['year_manufacture'] = data['year_manufacture'].astype(str)\n",
    "\n",
    "# select only the data for where the engines_amount is not a nan value\n",
    "data = data[data['year_manufacture']!= 'nan'] "
   ]
  },
  {
   "cell_type": "code",
   "execution_count": 70,
   "metadata": {},
   "outputs": [
    {
     "data": {
      "text/plain": [
       "(2024, 15)"
      ]
     },
     "execution_count": 70,
     "metadata": {},
     "output_type": "execute_result"
    }
   ],
   "source": [
    "data.shape"
   ]
  },
  {
   "cell_type": "code",
   "execution_count": 71,
   "metadata": {},
   "outputs": [
    {
     "name": "stdout",
     "output_type": "stream",
     "text": [
      "registration_country: ['BRAZIL' 'USA' 'UNKNOWN' nan 'FRENCH' 'SPAIN' 'SOUTH AFRICA' 'URUGUAY'\n",
      " 'RUSSIA' 'POLAND' 'GERMAN']\n"
     ]
    },
    {
     "data": {
      "text/plain": [
       "BRAZIL          1987\n",
       "USA               20\n",
       "NaN                9\n",
       "SPAIN              1\n",
       "RUSSIA             1\n",
       "URUGUAY            1\n",
       "FRENCH             1\n",
       "POLAND             1\n",
       "GERMAN             1\n",
       "SOUTH AFRICA       1\n",
       "UNKNOWN            1\n",
       "Name: registration_country, dtype: int64"
      ]
     },
     "execution_count": 71,
     "metadata": {},
     "output_type": "execute_result"
    }
   ],
   "source": [
    "print ('registration_country:' , data['registration_country'].unique())\n",
    "\n",
    "data['registration_country'].value_counts(dropna=False)"
   ]
  },
  {
   "cell_type": "code",
   "execution_count": 72,
   "metadata": {},
   "outputs": [],
   "source": [
    "data['registration_country'] = data['registration_country'].fillna('UKNOWN')"
   ]
  },
  {
   "cell_type": "code",
   "execution_count": 73,
   "metadata": {},
   "outputs": [
    {
     "name": "stdout",
     "output_type": "stream",
     "text": [
      "registration_category: ['PRI' 'TPX' 'TPP' 'TPR' 'ADE' 'M14' 'ADD' 'SAE-AG' 'PET' 'SAE' 'PIN'\n",
      " 'SAE-AL' 'SAE-AP' 'ADF' 'AIF' 'S00' 'TPN' 'AID' 'PEX' nan 'PUH' 'D07'\n",
      " 'M24' 'EXT']\n"
     ]
    },
    {
     "data": {
      "text/plain": [
       "TPP       752\n",
       "PRI       358\n",
       "TPX       272\n",
       "SAE-AG    195\n",
       "PET       187\n",
       "TPR        85\n",
       "SAE        57\n",
       "ADE        38\n",
       "EXT        13\n",
       "PIN        11\n",
       "PEX         9\n",
       "NaN         9\n",
       "AIF         6\n",
       "S00         5\n",
       "ADF         5\n",
       "TPN         5\n",
       "SAE-AP      4\n",
       "M14         4\n",
       "SAE-AL      3\n",
       "ADD         2\n",
       "PUH         1\n",
       "D07         1\n",
       "M24         1\n",
       "AID         1\n",
       "Name: registration_category, dtype: int64"
      ]
     },
     "execution_count": 73,
     "metadata": {},
     "output_type": "execute_result"
    }
   ],
   "source": [
    "print ('registration_category:' , data['registration_category'].unique())\n",
    "\n",
    "data['registration_category'].value_counts(dropna=False)"
   ]
  },
  {
   "cell_type": "markdown",
   "metadata": {},
   "source": [
    "### I couldn't find any relevant information on the meaning of these categories so I am dropping the column for now"
   ]
  },
  {
   "cell_type": "code",
   "execution_count": 74,
   "metadata": {},
   "outputs": [],
   "source": [
    "data = data.drop(['registration_category'], axis=1)"
   ]
  },
  {
   "cell_type": "code",
   "execution_count": 75,
   "metadata": {},
   "outputs": [
    {
     "name": "stdout",
     "output_type": "stream",
     "text": [
      "operation_phase: ['UNKNOWN' 'TAKEOFF' 'RUN AFTER LANDING' 'ASCENSION' 'MANEUVER' 'HOVERING'\n",
      " 'FINAL APPROXIMATION' 'RUSH ON THE GROUND' 'LANDING' 'DESCEND' 'CRUISE'\n",
      " 'TRAFFIC CIRCUIT' 'TAXI' 'RUSH IN THE AIR' 'SPECIALIZED' 'ANOTHER PHASE'\n",
      " 'LOW ALTITUDE NAVIGATION' 'FINAL STRETCH' 'ENGINE START'\n",
      " 'ENGINE OR ROTOR CHECKING' 'VERTICAL TAKEOFF' 'GROUND OPERATION'\n",
      " 'PARKING' nan]\n"
     ]
    },
    {
     "data": {
      "text/plain": [
       "LANDING                     388\n",
       "TAKEOFF                     348\n",
       "CRUISE                      232\n",
       "RUN AFTER LANDING           188\n",
       "SPECIALIZED                 115\n",
       "UNKNOWN                     103\n",
       "ASCENSION                   100\n",
       "MANEUVER                     98\n",
       "FINAL APPROXIMATION          70\n",
       "DESCEND                      67\n",
       "ANOTHER PHASE                60\n",
       "LOW ALTITUDE NAVIGATION      58\n",
       "TRAFFIC CIRCUIT              53\n",
       "TAXI                         40\n",
       "RUSH ON THE GROUND           29\n",
       "RUSH IN THE AIR              17\n",
       "ENGINE START                 13\n",
       "FINAL STRETCH                12\n",
       "HOVERING                     10\n",
       "PARKING                       9\n",
       "GROUND OPERATION              6\n",
       "VERTICAL TAKEOFF              4\n",
       "ENGINE OR ROTOR CHECKING      3\n",
       "NaN                           1\n",
       "Name: operation_phase, dtype: int64"
      ]
     },
     "execution_count": 75,
     "metadata": {},
     "output_type": "execute_result"
    }
   ],
   "source": [
    "print ('operation_phase:' , data['operation_phase'].unique())\n",
    "\n",
    "data['operation_phase'].value_counts(dropna=False)"
   ]
  },
  {
   "cell_type": "code",
   "execution_count": 76,
   "metadata": {},
   "outputs": [],
   "source": [
    "# replace the 1 nan value with 'Unknown'\n",
    "data['operation_phase'] = data['operation_phase'].fillna('UNKNOWN')"
   ]
  },
  {
   "cell_type": "code",
   "execution_count": 77,
   "metadata": {},
   "outputs": [
    {
     "name": "stdout",
     "output_type": "stream",
     "text": [
      "type operation: ['INSTRUCTION' 'AEROTAXI' 'PRIVATE' 'REGULAR' 'POLICIAL' 'AGRICULTURAL'\n",
      " 'EXPERIMENTAL' 'SPECIALIZED' 'NOT REGULAR' 'UNKNOWN']\n"
     ]
    },
    {
     "data": {
      "text/plain": [
       "PRIVATE         760\n",
       "INSTRUCTION     365\n",
       "AEROTAXI        273\n",
       "AGRICULTURAL    263\n",
       "EXPERIMENTAL    153\n",
       "REGULAR          91\n",
       "SPECIALIZED      42\n",
       "POLICIAL         37\n",
       "UNKNOWN          26\n",
       "NOT REGULAR      14\n",
       "Name: type_operation, dtype: int64"
      ]
     },
     "execution_count": 77,
     "metadata": {},
     "output_type": "execute_result"
    }
   ],
   "source": [
    "print ('type operation:' , data['type_operation'].unique())\n",
    "\n",
    "data['type_operation'].value_counts()"
   ]
  },
  {
   "cell_type": "code",
   "execution_count": 78,
   "metadata": {},
   "outputs": [
    {
     "name": "stdout",
     "output_type": "stream",
     "text": [
      "fatalitis: [ nan   2.   6.  10.  24.   3.   1.   4.   5.  19. 199.   7. 154.   8.\n",
      "  14.  16.]\n"
     ]
    },
    {
     "data": {
      "text/plain": [
       "NaN       1679\n",
       " 1.0       158\n",
       " 2.0       101\n",
       " 3.0        32\n",
       " 4.0        23\n",
       " 5.0        12\n",
       " 6.0         6\n",
       " 8.0         3\n",
       " 7.0         3\n",
       " 199.0       1\n",
       " 154.0       1\n",
       " 16.0        1\n",
       " 14.0        1\n",
       " 19.0        1\n",
       " 24.0        1\n",
       " 10.0        1\n",
       "Name: fatalities_amount, dtype: int64"
      ]
     },
     "execution_count": 78,
     "metadata": {},
     "output_type": "execute_result"
    }
   ],
   "source": [
    "print ('fatalitis:' , data['fatalities_amount'].unique())\n",
    "\n",
    "data['fatalities_amount'].value_counts(dropna=False)"
   ]
  },
  {
   "cell_type": "code",
   "execution_count": 79,
   "metadata": {},
   "outputs": [
    {
     "name": "stdout",
     "output_type": "stream",
     "text": [
      "damage level: ['SUBSTANTIAL' 'LIGHT' 'NONE' 'UNKNOWN' 'DESTROYED']\n"
     ]
    },
    {
     "data": {
      "text/plain": [
       "SUBSTANTIAL    1184\n",
       "DESTROYED       345\n",
       "LIGHT           260\n",
       "NONE            166\n",
       "UNKNOWN          69\n",
       "Name: damage_level, dtype: int64"
      ]
     },
     "execution_count": 79,
     "metadata": {},
     "output_type": "execute_result"
    }
   ],
   "source": [
    "print ('damage level:' , data['damage_level'].unique())\n",
    "\n",
    "data['damage_level'].value_counts()"
   ]
  },
  {
   "cell_type": "markdown",
   "metadata": {},
   "source": [
    "### There is a lot of missing data with regards to the fatalities involved.  Since I am using the damage level feature as my target variable, I decided to drop the fatalities feature"
   ]
  },
  {
   "cell_type": "code",
   "execution_count": 80,
   "metadata": {},
   "outputs": [],
   "source": [
    "data = data.drop(['fatalities_amount'], axis=1)\n"
   ]
  },
  {
   "cell_type": "code",
   "execution_count": 81,
   "metadata": {},
   "outputs": [
    {
     "data": {
      "text/plain": [
       "equipment                   0\n",
       "manufacturer                0\n",
       "model                       0\n",
       "engine_type                 0\n",
       "engines_amount              0\n",
       "takeoff_max_weight (Lbs)    0\n",
       "seatings_amount             0\n",
       "year_manufacture            0\n",
       "registration_country        0\n",
       "registration_aviation       0\n",
       "operation_phase             0\n",
       "type_operation              0\n",
       "damage_level                0\n",
       "dtype: int64"
      ]
     },
     "execution_count": 81,
     "metadata": {},
     "output_type": "execute_result"
    }
   ],
   "source": [
    "# check to verify there are no more null values\n",
    "data.isnull().sum()"
   ]
  },
  {
   "cell_type": "code",
   "execution_count": null,
   "metadata": {},
   "outputs": [],
   "source": []
  },
  {
   "cell_type": "code",
   "execution_count": 37,
   "metadata": {},
   "outputs": [
    {
     "data": {
      "text/html": [
       "<div>\n",
       "<style scoped>\n",
       "    .dataframe tbody tr th:only-of-type {\n",
       "        vertical-align: middle;\n",
       "    }\n",
       "\n",
       "    .dataframe tbody tr th {\n",
       "        vertical-align: top;\n",
       "    }\n",
       "\n",
       "    .dataframe thead th {\n",
       "        text-align: right;\n",
       "    }\n",
       "</style>\n",
       "<table border=\"1\" class=\"dataframe\">\n",
       "  <thead>\n",
       "    <tr style=\"text-align: right;\">\n",
       "      <th></th>\n",
       "      <th>equipment</th>\n",
       "      <th>manufacturer</th>\n",
       "      <th>model</th>\n",
       "      <th>engine_type</th>\n",
       "      <th>engines_amount</th>\n",
       "      <th>takeoff_max_weight (Lbs)</th>\n",
       "      <th>seatings_amount</th>\n",
       "      <th>year_manufacture</th>\n",
       "      <th>registration_country</th>\n",
       "      <th>registration_aviation</th>\n",
       "      <th>operation_phase</th>\n",
       "      <th>type_operation</th>\n",
       "      <th>damage_level</th>\n",
       "    </tr>\n",
       "  </thead>\n",
       "  <tbody>\n",
       "    <tr>\n",
       "      <th>2022</th>\n",
       "      <td>AIRPLANE</td>\n",
       "      <td>CESSNA AIRCRAFT</td>\n",
       "      <td>TU206G</td>\n",
       "      <td>PISTON</td>\n",
       "      <td>1.0</td>\n",
       "      <td>3600</td>\n",
       "      <td>0.0</td>\n",
       "      <td>0.0</td>\n",
       "      <td>UKNOWN</td>\n",
       "      <td>PRIVATE</td>\n",
       "      <td>UNKNOWN</td>\n",
       "      <td>PRIVATE</td>\n",
       "      <td>DESTROYED</td>\n",
       "    </tr>\n",
       "    <tr>\n",
       "      <th>2023</th>\n",
       "      <td>AIRPLANE</td>\n",
       "      <td>CESSNA AIRCRAFT</td>\n",
       "      <td>402B</td>\n",
       "      <td>PISTON</td>\n",
       "      <td>2.0</td>\n",
       "      <td>6849</td>\n",
       "      <td>0.0</td>\n",
       "      <td>0.0</td>\n",
       "      <td>URUGUAY</td>\n",
       "      <td>AEROTAXI</td>\n",
       "      <td>LANDING</td>\n",
       "      <td>AEROTAXI</td>\n",
       "      <td>SUBSTANTIAL</td>\n",
       "    </tr>\n",
       "    <tr>\n",
       "      <th>2024</th>\n",
       "      <td>AIRSHIP</td>\n",
       "      <td>MAULE AIRCRAFT</td>\n",
       "      <td>UKNOWN</td>\n",
       "      <td>PISTON</td>\n",
       "      <td>1.0</td>\n",
       "      <td>551</td>\n",
       "      <td>0.0</td>\n",
       "      <td>0.0</td>\n",
       "      <td>RUSSIA</td>\n",
       "      <td>PRIVATE</td>\n",
       "      <td>CRUISE</td>\n",
       "      <td>PRIVATE</td>\n",
       "      <td>LIGHT</td>\n",
       "    </tr>\n",
       "    <tr>\n",
       "      <th>2025</th>\n",
       "      <td>AIRSHIP</td>\n",
       "      <td>MAULE AIRCRAFT</td>\n",
       "      <td>UKNOWN</td>\n",
       "      <td>PISTON</td>\n",
       "      <td>1.0</td>\n",
       "      <td>551</td>\n",
       "      <td>0.0</td>\n",
       "      <td>0.0</td>\n",
       "      <td>POLAND</td>\n",
       "      <td>PRIVATE</td>\n",
       "      <td>CRUISE</td>\n",
       "      <td>PRIVATE</td>\n",
       "      <td>LIGHT</td>\n",
       "    </tr>\n",
       "    <tr>\n",
       "      <th>2042</th>\n",
       "      <td>AIRPLANE</td>\n",
       "      <td>PIPER AIRCRAFT</td>\n",
       "      <td>PA34</td>\n",
       "      <td>PISTON</td>\n",
       "      <td>2.0</td>\n",
       "      <td>0</td>\n",
       "      <td>0.0</td>\n",
       "      <td>0.0</td>\n",
       "      <td>GERMAN</td>\n",
       "      <td>UNKNOWN</td>\n",
       "      <td>UNKNOWN</td>\n",
       "      <td>UNKNOWN</td>\n",
       "      <td>DESTROYED</td>\n",
       "    </tr>\n",
       "  </tbody>\n",
       "</table>\n",
       "</div>"
      ],
      "text/plain": [
       "     equipment     manufacturer   model engine_type  engines_amount  \\\n",
       "2022  AIRPLANE  CESSNA AIRCRAFT  TU206G      PISTON             1.0   \n",
       "2023  AIRPLANE  CESSNA AIRCRAFT    402B      PISTON             2.0   \n",
       "2024   AIRSHIP   MAULE AIRCRAFT  UKNOWN      PISTON             1.0   \n",
       "2025   AIRSHIP   MAULE AIRCRAFT  UKNOWN      PISTON             1.0   \n",
       "2042  AIRPLANE   PIPER AIRCRAFT    PA34      PISTON             2.0   \n",
       "\n",
       "      takeoff_max_weight (Lbs) seatings_amount year_manufacture  \\\n",
       "2022                      3600             0.0              0.0   \n",
       "2023                      6849             0.0              0.0   \n",
       "2024                       551             0.0              0.0   \n",
       "2025                       551             0.0              0.0   \n",
       "2042                         0             0.0              0.0   \n",
       "\n",
       "     registration_country registration_aviation operation_phase  \\\n",
       "2022               UKNOWN               PRIVATE         UNKNOWN   \n",
       "2023              URUGUAY              AEROTAXI         LANDING   \n",
       "2024               RUSSIA               PRIVATE          CRUISE   \n",
       "2025               POLAND               PRIVATE          CRUISE   \n",
       "2042               GERMAN               UNKNOWN         UNKNOWN   \n",
       "\n",
       "     type_operation damage_level  \n",
       "2022        PRIVATE    DESTROYED  \n",
       "2023       AEROTAXI  SUBSTANTIAL  \n",
       "2024        PRIVATE        LIGHT  \n",
       "2025        PRIVATE        LIGHT  \n",
       "2042        UNKNOWN    DESTROYED  "
      ]
     },
     "execution_count": 37,
     "metadata": {},
     "output_type": "execute_result"
    }
   ],
   "source": [
    "data.tail()"
   ]
  },
  {
   "cell_type": "code",
   "execution_count": 38,
   "metadata": {},
   "outputs": [
    {
     "name": "stdout",
     "output_type": "stream",
     "text": [
      "<class 'pandas.core.frame.DataFrame'>\n",
      "Int64Index: 2024 entries, 0 to 2042\n",
      "Data columns (total 13 columns):\n",
      "equipment                   2024 non-null object\n",
      "manufacturer                2024 non-null object\n",
      "model                       2024 non-null object\n",
      "engine_type                 2024 non-null object\n",
      "engines_amount              2024 non-null float64\n",
      "takeoff_max_weight (Lbs)    2024 non-null int64\n",
      "seatings_amount             2024 non-null object\n",
      "year_manufacture            2024 non-null object\n",
      "registration_country        2024 non-null object\n",
      "registration_aviation       2024 non-null object\n",
      "operation_phase             2024 non-null object\n",
      "type_operation              2024 non-null object\n",
      "damage_level                2024 non-null object\n",
      "dtypes: float64(1), int64(1), object(11)\n",
      "memory usage: 221.4+ KB\n"
     ]
    }
   ],
   "source": [
    "data.info()"
   ]
  },
  {
   "cell_type": "markdown",
   "metadata": {},
   "source": [
    "#### Some of the features need to be converted to integer data type"
   ]
  },
  {
   "cell_type": "code",
   "execution_count": 83,
   "metadata": {},
   "outputs": [],
   "source": [
    "# make the year manufacture an integer category\n",
    "# convert other columns to appropriate data type category\n",
    "\n",
    "data['engines_amount'] = data['engines_amount'].astype(float)\n",
    "data['engines_amount'] = data['engines_amount'].astype(int)\n",
    "data['seatings_amount'] = data['seatings_amount'].astype(float)\n",
    "data['seatings_amount'] = data['seatings_amount'].astype(int)\n",
    "data['year_manufacture'] = data['year_manufacture'].astype(float)\n",
    "data['year_manufacture'] = data['year_manufacture'].astype(int)"
   ]
  },
  {
   "cell_type": "code",
   "execution_count": 40,
   "metadata": {},
   "outputs": [
    {
     "name": "stdout",
     "output_type": "stream",
     "text": [
      "<class 'pandas.core.frame.DataFrame'>\n",
      "Int64Index: 2024 entries, 0 to 2042\n",
      "Data columns (total 13 columns):\n",
      "equipment                   2024 non-null object\n",
      "manufacturer                2024 non-null object\n",
      "model                       2024 non-null object\n",
      "engine_type                 2024 non-null object\n",
      "engines_amount              2024 non-null int64\n",
      "takeoff_max_weight (Lbs)    2024 non-null int64\n",
      "seatings_amount             2024 non-null int64\n",
      "year_manufacture            2024 non-null int64\n",
      "registration_country        2024 non-null object\n",
      "registration_aviation       2024 non-null object\n",
      "operation_phase             2024 non-null object\n",
      "type_operation              2024 non-null object\n",
      "damage_level                2024 non-null object\n",
      "dtypes: int64(4), object(9)\n",
      "memory usage: 221.4+ KB\n"
     ]
    }
   ],
   "source": [
    "data.info()"
   ]
  },
  {
   "cell_type": "markdown",
   "metadata": {},
   "source": [
    "## Import the second data file"
   ]
  },
  {
   "cell_type": "code",
   "execution_count": 40,
   "metadata": {},
   "outputs": [
    {
     "name": "stdout",
     "output_type": "stream",
     "text": [
      "shape of the data - (2027, 20)\n"
     ]
    },
    {
     "data": {
      "text/html": [
       "<div>\n",
       "<style scoped>\n",
       "    .dataframe tbody tr th:only-of-type {\n",
       "        vertical-align: middle;\n",
       "    }\n",
       "\n",
       "    .dataframe tbody tr th {\n",
       "        vertical-align: top;\n",
       "    }\n",
       "\n",
       "    .dataframe thead th {\n",
       "        text-align: right;\n",
       "    }\n",
       "</style>\n",
       "<table border=\"1\" class=\"dataframe\">\n",
       "  <thead>\n",
       "    <tr style=\"text-align: right;\">\n",
       "      <th></th>\n",
       "      <th>Unnamed: 0</th>\n",
       "      <th>occurrence_id</th>\n",
       "      <th>classification</th>\n",
       "      <th>type of occurrence</th>\n",
       "      <th>localization</th>\n",
       "      <th>fu</th>\n",
       "      <th>country</th>\n",
       "      <th>aerodrome</th>\n",
       "      <th>occurrence_day</th>\n",
       "      <th>time</th>\n",
       "      <th>under_investigation</th>\n",
       "      <th>investigating_command</th>\n",
       "      <th>investigation_status</th>\n",
       "      <th>report_number</th>\n",
       "      <th>published_report</th>\n",
       "      <th>publication_day</th>\n",
       "      <th>recommendation_amount</th>\n",
       "      <th>aircrafts_involved</th>\n",
       "      <th>takeoff</th>\n",
       "      <th>extraction_day</th>\n",
       "    </tr>\n",
       "  </thead>\n",
       "  <tbody>\n",
       "    <tr>\n",
       "      <th>0</th>\n",
       "      <td>0</td>\n",
       "      <td>47965</td>\n",
       "      <td>ACCIDENT</td>\n",
       "      <td>ENGINE FAILURE DURING THE FLIGHT</td>\n",
       "      <td>ARIQUEMES</td>\n",
       "      <td>RO</td>\n",
       "      <td>BRAZIL</td>\n",
       "      <td>SJOG</td>\n",
       "      <td>2013-05-05</td>\n",
       "      <td>11:00:00</td>\n",
       "      <td>UNKNOWN</td>\n",
       "      <td>SERIPA-7</td>\n",
       "      <td>NaN</td>\n",
       "      <td>NaN</td>\n",
       "      <td>NaN</td>\n",
       "      <td>NaN</td>\n",
       "      <td>0</td>\n",
       "      <td>1</td>\n",
       "      <td>NaN</td>\n",
       "      <td>2016-07-30</td>\n",
       "    </tr>\n",
       "    <tr>\n",
       "      <th>1</th>\n",
       "      <td>1</td>\n",
       "      <td>50313</td>\n",
       "      <td>SERIOUS INCIDENT</td>\n",
       "      <td>LANDING WITHOUT LANDING GEAR</td>\n",
       "      <td>CACOAL</td>\n",
       "      <td>RO</td>\n",
       "      <td>BRAZIL</td>\n",
       "      <td>SSKW</td>\n",
       "      <td>2013-11-25</td>\n",
       "      <td>12:32:00</td>\n",
       "      <td>YES</td>\n",
       "      <td>SERIPA-7</td>\n",
       "      <td>FINISHED</td>\n",
       "      <td>NaN</td>\n",
       "      <td>1.0</td>\n",
       "      <td>2014-04-07</td>\n",
       "      <td>0</td>\n",
       "      <td>1</td>\n",
       "      <td>NaN</td>\n",
       "      <td>2016-07-30</td>\n",
       "    </tr>\n",
       "    <tr>\n",
       "      <th>2</th>\n",
       "      <td>2</td>\n",
       "      <td>34078</td>\n",
       "      <td>ACCIDENT</td>\n",
       "      <td>LOSS OF CONTROL ON THE GROUND</td>\n",
       "      <td>CEREJEIRAS</td>\n",
       "      <td>RO</td>\n",
       "      <td>BRAZIL</td>\n",
       "      <td>NaN</td>\n",
       "      <td>2008-08-07</td>\n",
       "      <td>15:10:00</td>\n",
       "      <td>YES</td>\n",
       "      <td>SERIPA-7</td>\n",
       "      <td>FINISHED</td>\n",
       "      <td>NaN</td>\n",
       "      <td>1.0</td>\n",
       "      <td>2016-07-07</td>\n",
       "      <td>0</td>\n",
       "      <td>1</td>\n",
       "      <td>1.0</td>\n",
       "      <td>2016-07-30</td>\n",
       "    </tr>\n",
       "    <tr>\n",
       "      <th>3</th>\n",
       "      <td>3</td>\n",
       "      <td>44988</td>\n",
       "      <td>ACCIDENT</td>\n",
       "      <td>SLOW LANDING</td>\n",
       "      <td>AMAJARI</td>\n",
       "      <td>RR</td>\n",
       "      <td>BRAZIL</td>\n",
       "      <td>NaN</td>\n",
       "      <td>2011-08-11</td>\n",
       "      <td>17:00:00</td>\n",
       "      <td>YES</td>\n",
       "      <td>SERIPA-7</td>\n",
       "      <td>FINISHED</td>\n",
       "      <td>NaN</td>\n",
       "      <td>1.0</td>\n",
       "      <td>2012-09-20</td>\n",
       "      <td>4</td>\n",
       "      <td>1</td>\n",
       "      <td>NaN</td>\n",
       "      <td>2016-07-30</td>\n",
       "    </tr>\n",
       "    <tr>\n",
       "      <th>4</th>\n",
       "      <td>4</td>\n",
       "      <td>38855</td>\n",
       "      <td>ACCIDENT</td>\n",
       "      <td>LOSS OF CONTROL IN THE AIR</td>\n",
       "      <td>ACEGUÁ</td>\n",
       "      <td>RS</td>\n",
       "      <td>BRAZIL</td>\n",
       "      <td>NaN</td>\n",
       "      <td>2009-12-28</td>\n",
       "      <td>17:30:00</td>\n",
       "      <td>YES</td>\n",
       "      <td>SERIPA-5</td>\n",
       "      <td>IN PROGRESS</td>\n",
       "      <td>UNDEFINED</td>\n",
       "      <td>NaN</td>\n",
       "      <td>NaN</td>\n",
       "      <td>0</td>\n",
       "      <td>1</td>\n",
       "      <td>NaN</td>\n",
       "      <td>2016-07-30</td>\n",
       "    </tr>\n",
       "  </tbody>\n",
       "</table>\n",
       "</div>"
      ],
      "text/plain": [
       "   Unnamed: 0  occurrence_id    classification  \\\n",
       "0           0          47965          ACCIDENT   \n",
       "1           1          50313  SERIOUS INCIDENT   \n",
       "2           2          34078          ACCIDENT   \n",
       "3           3          44988          ACCIDENT   \n",
       "4           4          38855          ACCIDENT   \n",
       "\n",
       "                 type of occurrence localization  fu country aerodrome  \\\n",
       "0  ENGINE FAILURE DURING THE FLIGHT    ARIQUEMES  RO  BRAZIL      SJOG   \n",
       "1      LANDING WITHOUT LANDING GEAR       CACOAL  RO  BRAZIL      SSKW   \n",
       "2     LOSS OF CONTROL ON THE GROUND   CEREJEIRAS  RO  BRAZIL       NaN   \n",
       "3                      SLOW LANDING      AMAJARI  RR  BRAZIL       NaN   \n",
       "4        LOSS OF CONTROL IN THE AIR       ACEGUÁ  RS  BRAZIL       NaN   \n",
       "\n",
       "  occurrence_day      time under_investigation investigating_command  \\\n",
       "0     2013-05-05  11:00:00             UNKNOWN              SERIPA-7   \n",
       "1     2013-11-25  12:32:00                 YES              SERIPA-7   \n",
       "2     2008-08-07  15:10:00                 YES              SERIPA-7   \n",
       "3     2011-08-11  17:00:00                 YES              SERIPA-7   \n",
       "4     2009-12-28  17:30:00                 YES              SERIPA-5   \n",
       "\n",
       "  investigation_status report_number  published_report publication_day  \\\n",
       "0                  NaN           NaN               NaN             NaN   \n",
       "1             FINISHED           NaN               1.0      2014-04-07   \n",
       "2             FINISHED           NaN               1.0      2016-07-07   \n",
       "3             FINISHED           NaN               1.0      2012-09-20   \n",
       "4          IN PROGRESS     UNDEFINED               NaN             NaN   \n",
       "\n",
       "   recommendation_amount  aircrafts_involved  takeoff extraction_day  \n",
       "0                      0                   1      NaN     2016-07-30  \n",
       "1                      0                   1      NaN     2016-07-30  \n",
       "2                      0                   1      1.0     2016-07-30  \n",
       "3                      4                   1      NaN     2016-07-30  \n",
       "4                      0                   1      NaN     2016-07-30  "
      ]
     },
     "execution_count": 40,
     "metadata": {},
     "output_type": "execute_result"
    }
   ],
   "source": [
    "data2 = pd.read_csv('occurrences.csv',\n",
    "                        na_values=['****', '***',''],\n",
    "                        header=0,\n",
    "                        encoding='latin-1'\n",
    "                       )\n",
    "\n",
    "# Read year from 'occurrence_day' column. \n",
    "# Create a new column called 'occurrence_year'\n",
    "#data2['occurrence_year'] = pd.to_datetime(occurrences['occurrence_day'], format='%Y/%m/%d').dt.year\n",
    "                                    \n",
    "print ('shape of the data -', data2.shape)\n",
    "\n",
    "data2.head()"
   ]
  },
  {
   "cell_type": "code",
   "execution_count": 41,
   "metadata": {},
   "outputs": [
    {
     "name": "stdout",
     "output_type": "stream",
     "text": [
      "['occurrence_id', 'classification', 'type of occurrence', 'localization', 'fu', 'country', 'aerodrome', 'occurrence_day', 'time', 'under_investigation', 'investigating_command', 'investigation_status', 'report_number', 'published_report', 'publication_day', 'recommendation_amount', 'aircrafts_involved', 'takeoff', 'extraction_day']\n"
     ]
    }
   ],
   "source": [
    "features2 = list(data2.columns)\n",
    "\n",
    "features2.remove('Unnamed: 0')\n",
    "\n",
    "print(features2)"
   ]
  },
  {
   "cell_type": "code",
   "execution_count": 42,
   "metadata": {},
   "outputs": [
    {
     "name": "stdout",
     "output_type": "stream",
     "text": [
      "<class 'pandas.core.frame.DataFrame'>\n",
      "RangeIndex: 2027 entries, 0 to 2026\n",
      "Data columns (total 20 columns):\n",
      "Unnamed: 0               2027 non-null int64\n",
      "occurrence_id            2027 non-null int64\n",
      "classification           2027 non-null object\n",
      "type of occurrence       2027 non-null object\n",
      "localization             2027 non-null object\n",
      "fu                       2025 non-null object\n",
      "country                  2027 non-null object\n",
      "aerodrome                807 non-null object\n",
      "occurrence_day           2027 non-null object\n",
      "time                     2027 non-null object\n",
      "under_investigation      2027 non-null object\n",
      "investigating_command    2027 non-null object\n",
      "investigation_status     1821 non-null object\n",
      "report_number            433 non-null object\n",
      "published_report         995 non-null float64\n",
      "publication_day          995 non-null object\n",
      "recommendation_amount    2027 non-null int64\n",
      "aircrafts_involved       2027 non-null int64\n",
      "takeoff                  256 non-null float64\n",
      "extraction_day           2027 non-null object\n",
      "dtypes: float64(2), int64(4), object(14)\n",
      "memory usage: 316.8+ KB\n"
     ]
    }
   ],
   "source": [
    "data2.info()"
   ]
  },
  {
   "cell_type": "code",
   "execution_count": 43,
   "metadata": {},
   "outputs": [
    {
     "data": {
      "text/plain": [
       "Unnamed: 0                  0\n",
       "occurrence_id               0\n",
       "classification              0\n",
       "type of occurrence          0\n",
       "localization                0\n",
       "fu                          2\n",
       "country                     0\n",
       "aerodrome                1220\n",
       "occurrence_day              0\n",
       "time                        0\n",
       "under_investigation         0\n",
       "investigating_command       0\n",
       "investigation_status      206\n",
       "report_number            1594\n",
       "published_report         1032\n",
       "publication_day          1032\n",
       "recommendation_amount       0\n",
       "aircrafts_involved          0\n",
       "takeoff                  1771\n",
       "extraction_day              0\n",
       "dtype: int64"
      ]
     },
     "execution_count": 43,
     "metadata": {},
     "output_type": "execute_result"
    }
   ],
   "source": [
    "data2.isnull().sum()"
   ]
  },
  {
   "cell_type": "code",
   "execution_count": 44,
   "metadata": {},
   "outputs": [],
   "source": [
    "data2 = data2.drop(['aerodrome', 'investigation_status', 'report_number'], axis=1)\n",
    "data2 = data2.drop(['published_report', 'publication_day', 'takeoff'], axis=1)"
   ]
  },
  {
   "cell_type": "code",
   "execution_count": 45,
   "metadata": {},
   "outputs": [
    {
     "name": "stdout",
     "output_type": "stream",
     "text": [
      "fu: ['RO' 'RR' 'RS' 'GO' 'RJ' 'ES' 'AL' 'DF' 'AC' 'MT' 'AM' 'PI' 'MS' 'SP'\n",
      " 'MA' 'AP' 'PA' 'SE' 'PR' 'CE' 'BA' 'MG' 'PE' 'RN' 'PB' 'SC' 'TO' nan 'EX']\n"
     ]
    },
    {
     "data": {
      "text/plain": [
       "SP     434\n",
       "RS     169\n",
       "PR     154\n",
       "MT     153\n",
       "MG     152\n",
       "GO     141\n",
       "RJ     120\n",
       "PA     119\n",
       "BA      83\n",
       "AM      81\n",
       "MS      72\n",
       "SC      58\n",
       "MA      40\n",
       "DF      30\n",
       "TO      30\n",
       "PE      29\n",
       "RR      25\n",
       "CE      25\n",
       "PI      20\n",
       "ES      16\n",
       "RO      14\n",
       "AC      14\n",
       "AL      12\n",
       "EX       8\n",
       "RN       7\n",
       "SE       7\n",
       "PB       6\n",
       "AP       6\n",
       "NaN      2\n",
       "Name: fu, dtype: int64"
      ]
     },
     "execution_count": 45,
     "metadata": {},
     "output_type": "execute_result"
    }
   ],
   "source": [
    "print ('fu:' , data2['fu'].unique())\n",
    "data2['fu'].value_counts(dropna=False)"
   ]
  },
  {
   "cell_type": "code",
   "execution_count": 46,
   "metadata": {},
   "outputs": [],
   "source": [
    "###########   Example code  ####################################\n",
    "# Get the count of the ID\n",
    "#counts = axs['ID'].value_counts()\n",
    "\n",
    "# Select the items where the ID count is less than 3 and remove them\n",
    "#axs = axs[~axs['ID'].isin(counts[counts < 3].index)]\n",
    "\n",
    "# Show info\n",
    "#axs.info()\n",
    "##################################################"
   ]
  },
  {
   "cell_type": "code",
   "execution_count": 47,
   "metadata": {},
   "outputs": [],
   "source": [
    "# select only the data for where the fu (state) is not a nan value\n",
    "data2 = data2[data2['fu'] != 'nan'] "
   ]
  },
  {
   "cell_type": "code",
   "execution_count": 48,
   "metadata": {},
   "outputs": [
    {
     "data": {
      "text/plain": [
       "Unnamed: 0               0\n",
       "occurrence_id            0\n",
       "classification           0\n",
       "type of occurrence       0\n",
       "localization             0\n",
       "fu                       2\n",
       "country                  0\n",
       "occurrence_day           0\n",
       "time                     0\n",
       "under_investigation      0\n",
       "investigating_command    0\n",
       "recommendation_amount    0\n",
       "aircrafts_involved       0\n",
       "extraction_day           0\n",
       "dtype: int64"
      ]
     },
     "execution_count": 48,
     "metadata": {},
     "output_type": "execute_result"
    }
   ],
   "source": [
    "data2.isnull().sum()  ###### why do I still have 2 null values here??"
   ]
  },
  {
   "cell_type": "code",
   "execution_count": null,
   "metadata": {},
   "outputs": [],
   "source": []
  },
  {
   "cell_type": "code",
   "execution_count": 49,
   "metadata": {},
   "outputs": [
    {
     "data": {
      "text/html": [
       "<div>\n",
       "<style scoped>\n",
       "    .dataframe tbody tr th:only-of-type {\n",
       "        vertical-align: middle;\n",
       "    }\n",
       "\n",
       "    .dataframe tbody tr th {\n",
       "        vertical-align: top;\n",
       "    }\n",
       "\n",
       "    .dataframe thead th {\n",
       "        text-align: right;\n",
       "    }\n",
       "</style>\n",
       "<table border=\"1\" class=\"dataframe\">\n",
       "  <thead>\n",
       "    <tr style=\"text-align: right;\">\n",
       "      <th></th>\n",
       "      <th>Unnamed: 0</th>\n",
       "      <th>occurrence_id</th>\n",
       "      <th>classification</th>\n",
       "      <th>type of occurrence</th>\n",
       "      <th>localization</th>\n",
       "      <th>fu</th>\n",
       "      <th>country</th>\n",
       "      <th>occurrence_day</th>\n",
       "      <th>time</th>\n",
       "      <th>under_investigation</th>\n",
       "      <th>investigating_command</th>\n",
       "      <th>recommendation_amount</th>\n",
       "      <th>aircrafts_involved</th>\n",
       "      <th>extraction_day</th>\n",
       "      <th>year</th>\n",
       "    </tr>\n",
       "  </thead>\n",
       "  <tbody>\n",
       "    <tr>\n",
       "      <th>0</th>\n",
       "      <td>0</td>\n",
       "      <td>47965</td>\n",
       "      <td>ACCIDENT</td>\n",
       "      <td>ENGINE FAILURE DURING THE FLIGHT</td>\n",
       "      <td>ARIQUEMES</td>\n",
       "      <td>RO</td>\n",
       "      <td>BRAZIL</td>\n",
       "      <td>2013-05-05</td>\n",
       "      <td>11:00:00</td>\n",
       "      <td>UNKNOWN</td>\n",
       "      <td>SERIPA-7</td>\n",
       "      <td>0</td>\n",
       "      <td>1</td>\n",
       "      <td>2016-07-30</td>\n",
       "      <td>2013</td>\n",
       "    </tr>\n",
       "    <tr>\n",
       "      <th>1</th>\n",
       "      <td>1</td>\n",
       "      <td>50313</td>\n",
       "      <td>SERIOUS INCIDENT</td>\n",
       "      <td>LANDING WITHOUT LANDING GEAR</td>\n",
       "      <td>CACOAL</td>\n",
       "      <td>RO</td>\n",
       "      <td>BRAZIL</td>\n",
       "      <td>2013-11-25</td>\n",
       "      <td>12:32:00</td>\n",
       "      <td>YES</td>\n",
       "      <td>SERIPA-7</td>\n",
       "      <td>0</td>\n",
       "      <td>1</td>\n",
       "      <td>2016-07-30</td>\n",
       "      <td>2013</td>\n",
       "    </tr>\n",
       "    <tr>\n",
       "      <th>2</th>\n",
       "      <td>2</td>\n",
       "      <td>34078</td>\n",
       "      <td>ACCIDENT</td>\n",
       "      <td>LOSS OF CONTROL ON THE GROUND</td>\n",
       "      <td>CEREJEIRAS</td>\n",
       "      <td>RO</td>\n",
       "      <td>BRAZIL</td>\n",
       "      <td>2008-08-07</td>\n",
       "      <td>15:10:00</td>\n",
       "      <td>YES</td>\n",
       "      <td>SERIPA-7</td>\n",
       "      <td>0</td>\n",
       "      <td>1</td>\n",
       "      <td>2016-07-30</td>\n",
       "      <td>2008</td>\n",
       "    </tr>\n",
       "    <tr>\n",
       "      <th>3</th>\n",
       "      <td>3</td>\n",
       "      <td>44988</td>\n",
       "      <td>ACCIDENT</td>\n",
       "      <td>SLOW LANDING</td>\n",
       "      <td>AMAJARI</td>\n",
       "      <td>RR</td>\n",
       "      <td>BRAZIL</td>\n",
       "      <td>2011-08-11</td>\n",
       "      <td>17:00:00</td>\n",
       "      <td>YES</td>\n",
       "      <td>SERIPA-7</td>\n",
       "      <td>4</td>\n",
       "      <td>1</td>\n",
       "      <td>2016-07-30</td>\n",
       "      <td>2011</td>\n",
       "    </tr>\n",
       "    <tr>\n",
       "      <th>4</th>\n",
       "      <td>4</td>\n",
       "      <td>38855</td>\n",
       "      <td>ACCIDENT</td>\n",
       "      <td>LOSS OF CONTROL IN THE AIR</td>\n",
       "      <td>ACEGUÁ</td>\n",
       "      <td>RS</td>\n",
       "      <td>BRAZIL</td>\n",
       "      <td>2009-12-28</td>\n",
       "      <td>17:30:00</td>\n",
       "      <td>YES</td>\n",
       "      <td>SERIPA-5</td>\n",
       "      <td>0</td>\n",
       "      <td>1</td>\n",
       "      <td>2016-07-30</td>\n",
       "      <td>2009</td>\n",
       "    </tr>\n",
       "  </tbody>\n",
       "</table>\n",
       "</div>"
      ],
      "text/plain": [
       "   Unnamed: 0  occurrence_id    classification  \\\n",
       "0           0          47965          ACCIDENT   \n",
       "1           1          50313  SERIOUS INCIDENT   \n",
       "2           2          34078          ACCIDENT   \n",
       "3           3          44988          ACCIDENT   \n",
       "4           4          38855          ACCIDENT   \n",
       "\n",
       "                 type of occurrence localization  fu country occurrence_day  \\\n",
       "0  ENGINE FAILURE DURING THE FLIGHT    ARIQUEMES  RO  BRAZIL     2013-05-05   \n",
       "1      LANDING WITHOUT LANDING GEAR       CACOAL  RO  BRAZIL     2013-11-25   \n",
       "2     LOSS OF CONTROL ON THE GROUND   CEREJEIRAS  RO  BRAZIL     2008-08-07   \n",
       "3                      SLOW LANDING      AMAJARI  RR  BRAZIL     2011-08-11   \n",
       "4        LOSS OF CONTROL IN THE AIR       ACEGUÁ  RS  BRAZIL     2009-12-28   \n",
       "\n",
       "       time under_investigation investigating_command  recommendation_amount  \\\n",
       "0  11:00:00             UNKNOWN              SERIPA-7                      0   \n",
       "1  12:32:00                 YES              SERIPA-7                      0   \n",
       "2  15:10:00                 YES              SERIPA-7                      0   \n",
       "3  17:00:00                 YES              SERIPA-7                      4   \n",
       "4  17:30:00                 YES              SERIPA-5                      0   \n",
       "\n",
       "   aircrafts_involved extraction_day  year  \n",
       "0                   1     2016-07-30  2013  \n",
       "1                   1     2016-07-30  2013  \n",
       "2                   1     2016-07-30  2008  \n",
       "3                   1     2016-07-30  2011  \n",
       "4                   1     2016-07-30  2009  "
      ]
     },
     "execution_count": 49,
     "metadata": {},
     "output_type": "execute_result"
    }
   ],
   "source": [
    "# pandas datetimeindex docs: https://pandas.pydata.org/pandas-docs/stable/generated/pandas.DatetimeIndex.html\n",
    "# efficient way to extract year from string format date\n",
    "\n",
    "data2['year'] = pd.DatetimeIndex(data2['occurrence_day']).year\n",
    "data2.head()\n"
   ]
  },
  {
   "cell_type": "code",
   "execution_count": 50,
   "metadata": {},
   "outputs": [
    {
     "name": "stdout",
     "output_type": "stream",
     "text": [
      "classification: ['ACCIDENT' 'SERIOUS INCIDENT']\n"
     ]
    },
    {
     "data": {
      "text/plain": [
       "ACCIDENT            1475\n",
       "SERIOUS INCIDENT     552\n",
       "Name: classification, dtype: int64"
      ]
     },
     "execution_count": 50,
     "metadata": {},
     "output_type": "execute_result"
    }
   ],
   "source": [
    "print ('classification:' , data2['classification'].unique())\n",
    "\n",
    "data2['classification'].value_counts(dropna=False)"
   ]
  },
  {
   "cell_type": "code",
   "execution_count": 51,
   "metadata": {},
   "outputs": [
    {
     "name": "stdout",
     "output_type": "stream",
     "text": [
      "type of occurrence: ['ENGINE FAILURE DURING THE FLIGHT' 'LANDING WITHOUT LANDING GEAR'\n",
      " 'LOSS OF CONTROL ON THE GROUND' 'SLOW LANDING'\n",
      " 'LOSS OF CONTROL IN THE AIR' 'UNKNOWN' 'ABOUT LANDING GEAR'\n",
      " 'TERRAIN COLLISION' 'TRACK INCURSION'\n",
      " 'METEOROLOGICAL PHENOMENOM IN THE AIR' 'HARD LANDING' 'ANOTHER TYPES'\n",
      " 'ABOUT ROTOR' 'SYSTEM / COMPONENT FAILURE'\n",
      " 'COLLISION AGAINST OBSTACLE DURING THE FLIGHT'\n",
      " 'ABOUT WINDOWS / DOORS / WINDSHIELD'\n",
      " 'LOSS OF COMPONENT DURING THE FLIGHT'\n",
      " 'COLLISION AGAINST OBSTACLE ON THE GROUND' 'FIRE DURING THE FLIGHT'\n",
      " 'LANDING BEFORE THE TRACK AREA' 'LOAD LAUNCH'\n",
      " 'EXPLOSIVE / NOT INTENTIONAL DECOMPRESSION'\n",
      " 'AIRCRAFTS COLLISION IN THE AIR' 'SPATIAL UNAWARENESS'\n",
      " 'LANDING ON UNPREDICTABLE PLACE' 'TIRE BURST' 'FUEL STARVATION'\n",
      " 'COMPONENT LOSS ON THE GROUND' 'ABOUT PROPELLER' 'LOW ALTITUDE MANEUVERS'\n",
      " 'FIRE ON THE GROUND' 'VEHICLE COLLISION AGAINST AIRCRAFT'\n",
      " 'FOD - DAMAGE CAUSED BY UNKNOWN OBJECT'\n",
      " 'COLLISION DURING THE FLIGHT AGAINST TOWED OBJECT'\n",
      " 'AIRCRAFT HIT BY OBJECT' 'METEOROLOGICAL PHENOMENOM ON THE GROUND'\n",
      " 'AIRCRAFTS COLLISION ON THE GROUND' 'STRUCTURAL FAILURE' 'AIR TRAFFIC'\n",
      " 'FLIGHT COMMANDS' 'FLUID LEAKS' 'SMOKE IN THE CABIN' 'LEAVING THE TRACK'\n",
      " 'ABOUT PASSENGERS/CREW DURING THE FLIGHT' 'INVOLUNTARY ENGINE CUT OFF'\n",
      " 'PHYSIOLOGICAL PROBLEMS' 'PEOPLE LAUNCH' 'COLLISION AGAINST BIRD'\n",
      " 'ENGINE FAILURE IN THE GROUND']\n"
     ]
    },
    {
     "data": {
      "text/plain": [
       "ENGINE FAILURE DURING THE FLIGHT                    377\n",
       "LOSS OF CONTROL ON THE GROUND                       325\n",
       "LOSS OF CONTROL IN THE AIR                          310\n",
       "COLLISION AGAINST OBSTACLE DURING THE FLIGHT        142\n",
       "ABOUT LANDING GEAR                                  130\n",
       "ANOTHER TYPES                                        87\n",
       "FUEL STARVATION                                      74\n",
       "SYSTEM / COMPONENT FAILURE                           61\n",
       "UNKNOWN                                              57\n",
       "LANDING WITHOUT LANDING GEAR                         54\n",
       "LANDING ON UNPREDICTABLE PLACE                       44\n",
       "HARD LANDING                                         40\n",
       "COLLISION AGAINST OBSTACLE ON THE GROUND             40\n",
       "SLOW LANDING                                         30\n",
       "METEOROLOGICAL PHENOMENOM IN THE AIR                 27\n",
       "LOSS OF COMPONENT DURING THE FLIGHT                  27\n",
       "TERRAIN COLLISION                                    21\n",
       "LOW ALTITUDE MANEUVERS                               16\n",
       "LANDING BEFORE THE TRACK AREA                        15\n",
       "TIRE BURST                                           14\n",
       "ABOUT PROPELLER                                      11\n",
       "AIR TRAFFIC                                          10\n",
       "SPATIAL UNAWARENESS                                  10\n",
       "EXPLOSIVE / NOT INTENTIONAL DECOMPRESSION             9\n",
       "FIRE DURING THE FLIGHT                                8\n",
       "FLIGHT COMMANDS                                       8\n",
       "AIRCRAFTS COLLISION ON THE GROUND                     8\n",
       "STRUCTURAL FAILURE                                    7\n",
       "FIRE ON THE GROUND                                    7\n",
       "AIRCRAFTS COLLISION IN THE AIR                        6\n",
       "COMPONENT LOSS ON THE GROUND                          6\n",
       "FLUID LEAKS                                           6\n",
       "ABOUT WINDOWS / DOORS / WINDSHIELD                    5\n",
       "COLLISION AGAINST BIRD                                5\n",
       "LEAVING THE TRACK                                     5\n",
       "INVOLUNTARY ENGINE CUT OFF                            3\n",
       "ABOUT ROTOR                                           3\n",
       "METEOROLOGICAL PHENOMENOM ON THE GROUND               3\n",
       "ENGINE FAILURE IN THE GROUND                          3\n",
       "AIRCRAFT HIT BY OBJECT                                2\n",
       "PHYSIOLOGICAL PROBLEMS                                2\n",
       "ABOUT PASSENGERS/CREW DURING THE FLIGHT               2\n",
       "FOD - DAMAGE CAUSED BY UNKNOWN OBJECT                 1\n",
       "COLLISION DURING THE FLIGHT AGAINST TOWED OBJECT      1\n",
       "SMOKE IN THE CABIN                                    1\n",
       "TRACK INCURSION                                       1\n",
       "VEHICLE COLLISION AGAINST AIRCRAFT                    1\n",
       "PEOPLE LAUNCH                                         1\n",
       "LOAD LAUNCH                                           1\n",
       "Name: type of occurrence, dtype: int64"
      ]
     },
     "execution_count": 51,
     "metadata": {},
     "output_type": "execute_result"
    }
   ],
   "source": [
    "print ('type of occurrence:' , data2['type of occurrence'].unique())\n",
    "\n",
    "data2['type of occurrence'].value_counts(dropna=False)"
   ]
  },
  {
   "cell_type": "code",
   "execution_count": null,
   "metadata": {},
   "outputs": [],
   "source": []
  },
  {
   "cell_type": "code",
   "execution_count": null,
   "metadata": {},
   "outputs": [],
   "source": []
  },
  {
   "cell_type": "code",
   "execution_count": null,
   "metadata": {},
   "outputs": [],
   "source": [
    "data2.isnull().sum()"
   ]
  },
  {
   "cell_type": "code",
   "execution_count": null,
   "metadata": {},
   "outputs": [],
   "source": []
  },
  {
   "cell_type": "markdown",
   "metadata": {},
   "source": [
    "# Part II: Exploratory Data Analysis"
   ]
  },
  {
   "cell_type": "code",
   "execution_count": 52,
   "metadata": {},
   "outputs": [
    {
     "data": {
      "text/plain": [
       "Text(0.5, 1.0, 'Number of Accidents per Year')"
      ]
     },
     "execution_count": 52,
     "metadata": {},
     "output_type": "execute_result"
    },
    {
     "data": {
      "image/png": "[encoded data removed]",
      "text/plain": [
       "<Figure size 720x576 with 1 Axes>"
      ]
     },
     "metadata": {
      "needs_background": "light"
     },
     "output_type": "display_data"
    }
   ],
   "source": [
    "Year = data2['year'].value_counts().sort_index()\n",
    "Year.plot(figsize=(10,8))\n",
    "plt.title('Number of Accidents per Year', fontsize=20, fontweight='bold')"
   ]
  },
  {
   "cell_type": "code",
   "execution_count": null,
   "metadata": {},
   "outputs": [],
   "source": []
  },
  {
   "cell_type": "code",
   "execution_count": 41,
   "metadata": {},
   "outputs": [
    {
     "data": {
      "text/plain": [
       "Text(0.5, 1.0, 'Accidents by Aircraft Type')"
      ]
     },
     "execution_count": 41,
     "metadata": {},
     "output_type": "execute_result"
    },
    {
     "data": {
      "image/png": "[encoded data removed]",
      "text/plain": [
       "<Figure size 720x360 with 1 Axes>"
      ]
     },
     "metadata": {
      "needs_background": "light"
     },
     "output_type": "display_data"
    }
   ],
   "source": [
    "# graph of accidents by equipment type\n",
    "equip = data['equipment'].value_counts()\n",
    "equip = equip.sort_values(ascending=False)\n",
    "\n",
    "equip.plot.barh(color='teal', figsize=(10,5))\n",
    "plt.title('Accidents by Aircraft Type', fontsize=20, fontweight='bold')"
   ]
  },
  {
   "cell_type": "code",
   "execution_count": null,
   "metadata": {},
   "outputs": [],
   "source": []
  },
  {
   "cell_type": "code",
   "execution_count": 42,
   "metadata": {},
   "outputs": [
    {
     "data": {
      "text/plain": [
       "Text(0.5, 1.0, 'Accidents by Engine Type')"
      ]
     },
     "execution_count": 42,
     "metadata": {},
     "output_type": "execute_result"
    },
    {
     "data": {
      "image/png": "[encoded data removed]",
      "text/plain": [
       "<Figure size 720x360 with 1 Axes>"
      ]
     },
     "metadata": {
      "needs_background": "light"
     },
     "output_type": "display_data"
    }
   ],
   "source": [
    "#engine type\n",
    "engine = data['engine_type'].value_counts()\n",
    "engine= engine.sort_values(ascending=False)\n",
    "\n",
    "engine.plot.barh(color='teal', figsize=(10,5))\n",
    "plt.title('Accidents by Engine Type', fontsize=20, fontweight='bold')"
   ]
  },
  {
   "cell_type": "code",
   "execution_count": null,
   "metadata": {},
   "outputs": [],
   "source": []
  },
  {
   "cell_type": "code",
   "execution_count": 43,
   "metadata": {},
   "outputs": [
    {
     "data": {
      "text/plain": [
       "Text(0.5, 1.0, 'Accidents by Phase of Operation')"
      ]
     },
     "execution_count": 43,
     "metadata": {},
     "output_type": "execute_result"
    },
    {
     "data": {
      "image/png": "[encoded data removed]",
      "text/plain": [
       "<Figure size 720x360 with 1 Axes>"
      ]
     },
     "metadata": {
      "needs_background": "light"
     },
     "output_type": "display_data"
    }
   ],
   "source": [
    "# operation phase\n",
    "\n",
    "phase = data['operation_phase'].value_counts()\n",
    "phase = phase.sort_values(ascending=False)\n",
    "\n",
    "phase.plot.barh(color='teal', figsize=(10,5))\n",
    "plt.title('Accidents by Phase of Operation', fontsize=20, fontweight='bold')"
   ]
  },
  {
   "cell_type": "code",
   "execution_count": null,
   "metadata": {},
   "outputs": [],
   "source": []
  },
  {
   "cell_type": "code",
   "execution_count": 44,
   "metadata": {},
   "outputs": [
    {
     "data": {
      "text/plain": [
       "Text(0.5, 1.0, 'Accidents by Operation Type')"
      ]
     },
     "execution_count": 44,
     "metadata": {},
     "output_type": "execute_result"
    },
    {
     "data": {
      "image/png": "[encoded data removed]",
      "text/plain": [
       "<Figure size 720x360 with 1 Axes>"
      ]
     },
     "metadata": {
      "needs_background": "light"
     },
     "output_type": "display_data"
    }
   ],
   "source": [
    "# type of operation\n",
    "\n",
    "type_op = data['type_operation'].value_counts()\n",
    "type_op = type_op.sort_values(ascending=False)\n",
    "\n",
    "type_op.plot.barh(color='teal', figsize=(10,5))\n",
    "plt.title('Accidents by Operation Type', fontsize=20, fontweight='bold')"
   ]
  },
  {
   "cell_type": "code",
   "execution_count": null,
   "metadata": {},
   "outputs": [],
   "source": []
  },
  {
   "cell_type": "code",
   "execution_count": 57,
   "metadata": {},
   "outputs": [],
   "source": [
    "# USE THIS IN THE VISUALIZATION SECTION - DON'T ELIMINATE DATA HERE\n",
    "# MAKE A COPY OF THE DATASET\n",
    "\n",
    "\n",
    "# select the manufacturers that have 10 or more occurrances\n",
    "\n",
    "manufacturers = data['manufacturer'].value_counts()\n",
    "data = data[data['manufacturer'].isin(manufacturers.index[manufacturers >=10]).values]"
   ]
  },
  {
   "cell_type": "code",
   "execution_count": null,
   "metadata": {},
   "outputs": [],
   "source": []
  },
  {
   "cell_type": "code",
   "execution_count": null,
   "metadata": {},
   "outputs": [],
   "source": []
  },
  {
   "cell_type": "code",
   "execution_count": null,
   "metadata": {},
   "outputs": [],
   "source": [
    "seats = data['seatings_amount'].value_counts()\n",
    "seats= seats.sort_values(ascending=False)\n",
    "\n",
    "seats.plot.barh(color='teal', figsize=(15,10))\n",
    "plt.title('Number of Seats on the Plane/Equipment', fontsize=20, fontweight='bold')"
   ]
  },
  {
   "cell_type": "code",
   "execution_count": null,
   "metadata": {},
   "outputs": [],
   "source": []
  },
  {
   "cell_type": "code",
   "execution_count": null,
   "metadata": {},
   "outputs": [],
   "source": []
  },
  {
   "cell_type": "markdown",
   "metadata": {},
   "source": [
    "# Part III:  Build Machine Learning Models"
   ]
  },
  {
   "cell_type": "markdown",
   "metadata": {},
   "source": [
    "### Preprocess the data"
   ]
  },
  {
   "cell_type": "code",
   "execution_count": 84,
   "metadata": {},
   "outputs": [
    {
     "data": {
      "text/plain": [
       "(2024, 13)"
      ]
     },
     "execution_count": 84,
     "metadata": {},
     "output_type": "execute_result"
    }
   ],
   "source": [
    "data.shape"
   ]
  },
  {
   "cell_type": "code",
   "execution_count": 85,
   "metadata": {},
   "outputs": [
    {
     "name": "stdout",
     "output_type": "stream",
     "text": [
      "damage levels: ['SUBSTANTIAL', 'LIGHT', 'NONE', 'UNKNOWN', 'DESTROYED']\n"
     ]
    }
   ],
   "source": [
    "data_by_damage = data.groupby('damage_level')  # group data by damage level\n",
    "levels = list(data['damage_level'].unique())  # list of damage categories\n",
    "print ('damage levels:',levels)"
   ]
  },
  {
   "cell_type": "markdown",
   "metadata": {},
   "source": [
    "#### Replace the unknown values with the value of 'substantial' since statistically this is the most frequent value of damage (the mode)"
   ]
  },
  {
   "cell_type": "code",
   "execution_count": 86,
   "metadata": {},
   "outputs": [],
   "source": [
    "data['damage_level'] = (data['damage_level'].replace('UNKNOWN', 'SUBSTANTIAL')).astype('str')"
   ]
  },
  {
   "cell_type": "markdown",
   "metadata": {},
   "source": [
    "Stackoverflow:\n",
    "In most cases getting rid of infinite and null values solve this problem.\n",
    "\n",
    "get rid of infinite values.\n",
    "\n",
    "df.replace([np.inf, -np.inf], np.nan, inplace=True)\n",
    "get rid of null values the way you like, specific value such as 999, mean, or create your own function to impute missing values\n",
    "\n",
    "df.fillna(999, inplace=True)\n",
    "or\n",
    "\n",
    "df.fillna(df.mean(), inplace=True)"
   ]
  },
  {
   "cell_type": "code",
   "execution_count": 87,
   "metadata": {},
   "outputs": [],
   "source": [
    "data['damage_level'] = data['damage_level'].fillna('SUBSTANTIAL')"
   ]
  },
  {
   "cell_type": "code",
   "execution_count": 90,
   "metadata": {},
   "outputs": [
    {
     "name": "stdout",
     "output_type": "stream",
     "text": [
      "  equipment                 manufacturer   model engine_type  engines_amount  \\\n",
      "0  AIRPLANE  NEIVA INDUSTRIA AERONAUTICA    56-C      PISTON               1   \n",
      "1  AIRPLANE  NEIVA INDUSTRIA AERONAUTICA    56-C      PISTON               1   \n",
      "2  AIRPLANE               BEECH AIRCRAFT  95-B55      PISTON               2   \n",
      "\n",
      "   takeoff_max_weight (Lbs)  seatings_amount  year_manufacture  \\\n",
      "0                      1455                2              1962   \n",
      "1                      1455                2              1960   \n",
      "2                      5092                6              1966   \n",
      "\n",
      "  registration_country registration_aviation    operation_phase  \\\n",
      "0               BRAZIL           INSTRUCTION            UNKNOWN   \n",
      "1               BRAZIL           INSTRUCTION            TAKEOFF   \n",
      "2               BRAZIL              AEROTAXI  RUN AFTER LANDING   \n",
      "\n",
      "  type_operation  damage_level  \n",
      "0    INSTRUCTION           3.0  \n",
      "1    INSTRUCTION           1.0  \n",
      "2       AEROTAXI           3.0  \n"
     ]
    }
   ],
   "source": [
    "# Encode the labels for damage level - use LabelEncoder for target variable\n",
    "\n",
    "from sklearn.preprocessing import LabelEncoder\n",
    "\n",
    "le = LabelEncoder()\n",
    "data['damage_level'] = pd.DataFrame(le.fit_transform(data['damage_level']))\n",
    "\n",
    "print(data.head(3))\n",
    "\n",
    "# for more information see documentation at: \n",
    "# https://scikit-learn.org/stable/modules/generated/sklearn.preprocessing.LabelEncoder.html"
   ]
  },
  {
   "cell_type": "code",
   "execution_count": 91,
   "metadata": {},
   "outputs": [
    {
     "data": {
      "text/plain": [
       "3"
      ]
     },
     "execution_count": 91,
     "metadata": {},
     "output_type": "execute_result"
    }
   ],
   "source": [
    "np.isnan(data['damage_level']).sum()"
   ]
  },
  {
   "cell_type": "code",
   "execution_count": 92,
   "metadata": {},
   "outputs": [
    {
     "data": {
      "text/plain": [
       "(array([2021, 2022, 2023]),)"
      ]
     },
     "execution_count": 92,
     "metadata": {},
     "output_type": "execute_result"
    }
   ],
   "source": [
    "# to see where the nan values are\n",
    "np.where(np.isnan(data['damage_level']))"
   ]
  },
  {
   "cell_type": "markdown",
   "metadata": {},
   "source": [
    "## I.  Logistic Regression Model\n",
    "### Process:\n",
    "\n",
    "* Normalization\n",
    "* Define X and y\n",
    "* Train-Test Split\n",
    "* Fit a Model\n",
    "* Predict\n",
    "* Generate a Confusion Matrix\n",
    "* Calculate Evaluation Metrics"
   ]
  },
  {
   "cell_type": "code",
   "execution_count": null,
   "metadata": {},
   "outputs": [],
   "source": []
  },
  {
   "cell_type": "markdown",
   "metadata": {},
   "source": [
    "### Step 1:  Define X and y"
   ]
  },
  {
   "cell_type": "markdown",
   "metadata": {},
   "source": [
    "#### First we have to create dummy variables for the features we are using before using them to define X and y"
   ]
  },
  {
   "cell_type": "code",
   "execution_count": null,
   "metadata": {},
   "outputs": [],
   "source": [
    "x_feats = ['equipment', 'engine_type', 'registration_aviation', 'operation_phase', 'type_operation']\n",
    "X = pd.get_dummies(data[x_feats])\n",
    "\n",
    "y = data['damage_level']"
   ]
  },
  {
   "cell_type": "markdown",
   "metadata": {},
   "source": [
    "### Make sure all nan values are eliminated from the data"
   ]
  },
  {
   "cell_type": "code",
   "execution_count": null,
   "metadata": {},
   "outputs": [],
   "source": [
    "np.isnan(X).sum()"
   ]
  },
  {
   "cell_type": "code",
   "execution_count": null,
   "metadata": {},
   "outputs": [],
   "source": [
    "np.isnan(y).sum()"
   ]
  },
  {
   "cell_type": "markdown",
   "metadata": {},
   "source": [
    "### Normalization is not needed for this dataset so we can proceed to the Train Test Split phase\n"
   ]
  },
  {
   "cell_type": "markdown",
   "metadata": {},
   "source": [
    "### Step 2: Train-Test Split"
   ]
  },
  {
   "cell_type": "code",
   "execution_count": null,
   "metadata": {},
   "outputs": [],
   "source": [
    "from sklearn.model_selection import train_test_split\n",
    "\n",
    "X_train, X_test, y_train, y_test = train_test_split(X, y, test_size=.4, random_state=42)\n",
    "\n",
    "print(X_train.shape, X_test.shape, y_train.shape, y_test.shape)"
   ]
  },
  {
   "cell_type": "markdown",
   "metadata": {},
   "source": [
    "### Step 3:  Fit a Model"
   ]
  },
  {
   "cell_type": "code",
   "execution_count": null,
   "metadata": {},
   "outputs": [],
   "source": [
    "from sklearn.linear_model import LogisticRegression\n",
    "\n",
    "logreg = LogisticRegression(fit_intercept=False, C=1e12)\n",
    "model_log = logreg.fit(X_train, y_train)\n",
    "model_log"
   ]
  },
  {
   "cell_type": "markdown",
   "metadata": {},
   "source": [
    "### Step 4: Predict"
   ]
  },
  {
   "cell_type": "code",
   "execution_count": null,
   "metadata": {},
   "outputs": [],
   "source": [
    "y_hat_test = logreg.predict(X_test)\n",
    "y_hat_train = logreg.predict(X_train)"
   ]
  },
  {
   "cell_type": "code",
   "execution_count": null,
   "metadata": {},
   "outputs": [],
   "source": [
    "# residuals are the values between the actual y value and the predicted y value\n",
    "# check the residuals for the train data\n",
    "\n",
    "residuals = np.abs(y_train - y_hat_train)\n",
    "\n",
    "print (pd.Series(residuals).value_counts())\n",
    "print(pd.Series(residuals).value_counts(normalize=True))"
   ]
  },
  {
   "cell_type": "code",
   "execution_count": null,
   "metadata": {},
   "outputs": [],
   "source": [
    "# now check the residuals for the test data\n",
    "\n",
    "residuals = np.abs(y_test - y_hat_test)\n",
    "\n",
    "print (pd.Series(residuals).value_counts())\n",
    "print(pd.Series(residuals).value_counts(normalize=True))"
   ]
  },
  {
   "cell_type": "markdown",
   "metadata": {},
   "source": [
    "### The classifier was 62.8% accurate with the training data and 63.2% with the test data"
   ]
  },
  {
   "cell_type": "markdown",
   "metadata": {},
   "source": [
    "When the test data was categorized, 499 entries were correctly labeled. This represents about 63% of the test data.\n",
    "\n",
    "With a confusion matrix, we can see which genres were more often correctly labeled, as well as those that were mislabeled the majority of the time."
   ]
  },
  {
   "cell_type": "markdown",
   "metadata": {},
   "source": [
    "### Step 6.  Generate a Confusion Matrix"
   ]
  },
  {
   "cell_type": "markdown",
   "metadata": {},
   "source": [
    "\"A confusion matrix is a table that is often used to describe the performance of a classification model (or “classifier”) on a set of test data for which the true values are known. It allows the visualization of the performance of an algorithm.\n",
    "It allows easy identification of confusion between classes e.g. one class is commonly mislabeled as the other. Most performance measures are computed from the confusion matrix.\"\n",
    "geeksforgeeks.org/confusion-matrix-machine-learning/"
   ]
  },
  {
   "attachments": {
    "image.png": {
     "image/png": "[encoded data removed]"
    }
   },
   "cell_type": "markdown",
   "metadata": {},
   "source": [
    "![image.png](attachment:image.png)"
   ]
  },
  {
   "attachments": {
    "image.png": {
     "image/png": "[encoded data removed]"
    }
   },
   "cell_type": "markdown",
   "metadata": {},
   "source": [
    "![image.png](attachment:image.png)"
   ]
  },
  {
   "cell_type": "markdown",
   "metadata": {},
   "source": [
    "The results from the confusion matrix enable us to calculate different evaluation metrics for our classification problem. These metrics include precision, recall, accuracy, and the F-1 score.\n",
    "\n",
    "For more of an explanation of a confusion matrix, visit:\n",
    "https://www.geeksforgeeks.org/confusion-matrix-machine-learning/\n",
    "\n",
    "See https://www.youtube.com/watch?v=8Oog7TXHvFY at 24:30 to learn about reading a confusion matrix for a multi-categorical classification model"
   ]
  },
  {
   "cell_type": "code",
   "execution_count": null,
   "metadata": {},
   "outputs": [],
   "source": [
    "# generate a multi-categorical confusion matrix (code adapted from lab dsc-3-27-08)\n",
    "\n",
    "from sklearn.metrics import confusion_matrix\n",
    "\n",
    "cm = confusion_matrix(y_test, y_hat_test)\n",
    "cm"
   ]
  },
  {
   "cell_type": "markdown",
   "metadata": {},
   "source": [
    "# EDIT\n",
    "The true labels run down the left side of the matrix, genres 0 thru 9\n",
    "The predicted labels run across the top (or bottom) of the matrix.\n",
    "The diagonal numbers of the matrix represents how many times the true value was predicted correctly.  As you can see, the model did only a fair job predicting the correct genre.  In the case of genre 3 (disco), it was classified 16 times as genre 7 (pop).  If we look at the reverse case, genre 7 was never classified as genre 3.  Let's take a look at this more visually."
   ]
  },
  {
   "cell_type": "code",
   "execution_count": null,
   "metadata": {},
   "outputs": [],
   "source": [
    "# visualize the confusion matrix\n",
    "\n",
    "import numpy as np\n",
    "import itertools\n",
    "import matplotlib.pyplot as plt\n",
    "% matplotlib inline\n",
    "\n",
    "def show_cf(y_true, y_pred, class_names=None, model_name=None):\n",
    "    cf = confusion_matrix(y_true, y_pred)\n",
    "    \n",
    "    plt.figure(figsize=(15,10))  # added to change figure size\n",
    "    plt.imshow(cf, cmap=plt.cm.OrRd)\n",
    "    \n",
    "    if model_name:\n",
    "        plt.title(\"Confusion Matrix: {}\".format(model_name))\n",
    "    else:\n",
    "        plt.title(\"Confusion Matrix\")\n",
    "    plt.ylabel('True Label')\n",
    "    plt.xlabel('Predicted Label')\n",
    "    \n",
    "    class_names = set(y_true)\n",
    "    tick_marks = np.arange(len(class_names))\n",
    "    if class_names:\n",
    "        plt.xticks(tick_marks, class_names)\n",
    "        plt.yticks(tick_marks, class_names)\n",
    "    \n",
    "    thresh = cf.max() / 2.\n",
    "    \n",
    "    for i, j in itertools.product(range(cf.shape[0]), range(cf.shape[1])):\n",
    "        plt.text(j, i, cf[i, j], horizontalalignment='center', color='white' if cf[i, j] > thresh else 'black')\n",
    "\n",
    "    plt.colorbar()\n",
    "\n",
    "show_cf(y_test, y_hat_test)"
   ]
  },
  {
   "cell_type": "markdown",
   "metadata": {},
   "source": [
    "# EDIT\n",
    "Ideally, the diagonal of this matrix would be shaded darker than the areas above or below it. This would mean that the true label was predicted correctly the majority of the time. Looking at the diagonal, we can see that ............. were correctly classified the most, whereas ................ were classified incorrectly the most."
   ]
  },
  {
   "cell_type": "markdown",
   "metadata": {},
   "source": [
    "### Calculate the Evaluation Metrics"
   ]
  },
  {
   "cell_type": "code",
   "execution_count": null,
   "metadata": {},
   "outputs": [],
   "source": [
    "from sklearn.metrics import classification_report, accuracy_score"
   ]
  },
  {
   "cell_type": "code",
   "execution_count": null,
   "metadata": {},
   "outputs": [],
   "source": [
    "print (classification_report(y_test,y_hat_test))"
   ]
  },
  {
   "cell_type": "code",
   "execution_count": null,
   "metadata": {},
   "outputs": [],
   "source": [
    "print ('Accuracy Score:', accuracy_score(y_test, y_hat_test))"
   ]
  },
  {
   "cell_type": "markdown",
   "metadata": {},
   "source": [
    "The F1-score penalizes models heavily if it skews too hard towards either precision or recall. For this reason, F1-score is generally the most used metric for describing the performance of a model.\n",
    "However, because we are dealing with airplane accidents, it is more important that our model be accurate."
   ]
  },
  {
   "cell_type": "markdown",
   "metadata": {},
   "source": [
    "### Which Metric to Use?\n",
    "The metrics that are most important to a project will often be dependent on the business use or goals for that model. \n",
    "In general, it is a good idea to calculate any and all relevant metrics. In most classification tasks, you don't know which model will perform best when you start. The common workflow is to train each different type of classifier, and select the best by comparing the performance of each. It's common to make tables like the one below, and highlight the best peformer for each metric:\n",
    "\n",
    "![image.png](attachment:image.png)\n",
    "\n",
    "The above taken from Mod3 Section27 Evaluation Metrics lesson"
   ]
  },
  {
   "cell_type": "markdown",
   "metadata": {},
   "source": [
    "# EDIT\n",
    "Overall, the logistical regresson model performed fair at best.  It did better with some genres than others but choosing a deep learning model should produce a better result."
   ]
  },
  {
   "cell_type": "markdown",
   "metadata": {},
   "source": [
    "### Using a Pipeline with Logistic Regression\n",
    "\n",
    "Pipelines are extremely useful tools to write clean and manageable code for machine learning. Recall how we start preparing our data set: we want to clean our data, transform it, potentially use feature selection, and then run a machine learning algorithm. All of this can be done in one procedure using a pipeline."
   ]
  },
  {
   "cell_type": "code",
   "execution_count": 94,
   "metadata": {},
   "outputs": [],
   "source": [
    "# from sklearn.pipeline import Pipeline\n",
    "from sklearn.decomposition import PCA\n",
    "\n",
    "pipe_linreg = Pipeline([('pca', PCA(n_components=25, random_state=123)),\n",
    "                 ('clf', LogisticRegression(random_state=123))])\n",
    "\n",
    "# fit the pipeline\n",
    "pipe_linreg.fit(X_train, y_train)\n",
    "\n",
    "# print result\n",
    "print (pipe_linreg.score(X_test, y_test))"
   ]
  },
  {
   "cell_type": "markdown",
   "metadata": {},
   "source": [
    "### Let's explore some deep learning models to see if better performance can be achieved"
   ]
  },
  {
   "cell_type": "markdown",
   "metadata": {},
   "source": [
    "## II.  Deep Learning Model"
   ]
  },
  {
   "cell_type": "code",
   "execution_count": 95,
   "metadata": {},
   "outputs": [
    {
     "name": "stdout",
     "output_type": "stream",
     "text": [
      "['equipment', 'engine_type', 'registration_aviation', 'operation_phase', 'type_operation']\n"
     ]
    },
    {
     "data": {
      "text/html": [
       "<div>\n",
       "<style scoped>\n",
       "    .dataframe tbody tr th:only-of-type {\n",
       "        vertical-align: middle;\n",
       "    }\n",
       "\n",
       "    .dataframe tbody tr th {\n",
       "        vertical-align: top;\n",
       "    }\n",
       "\n",
       "    .dataframe thead th {\n",
       "        text-align: right;\n",
       "    }\n",
       "</style>\n",
       "<table border=\"1\" class=\"dataframe\">\n",
       "  <thead>\n",
       "    <tr style=\"text-align: right;\">\n",
       "      <th></th>\n",
       "      <th>equipment</th>\n",
       "      <th>engine_type</th>\n",
       "      <th>registration_aviation</th>\n",
       "      <th>operation_phase</th>\n",
       "      <th>type_operation</th>\n",
       "    </tr>\n",
       "  </thead>\n",
       "  <tbody>\n",
       "    <tr>\n",
       "      <th>0</th>\n",
       "      <td>AIRPLANE</td>\n",
       "      <td>PISTON</td>\n",
       "      <td>INSTRUCTION</td>\n",
       "      <td>UNKNOWN</td>\n",
       "      <td>INSTRUCTION</td>\n",
       "    </tr>\n",
       "    <tr>\n",
       "      <th>1</th>\n",
       "      <td>AIRPLANE</td>\n",
       "      <td>PISTON</td>\n",
       "      <td>INSTRUCTION</td>\n",
       "      <td>TAKEOFF</td>\n",
       "      <td>INSTRUCTION</td>\n",
       "    </tr>\n",
       "    <tr>\n",
       "      <th>2</th>\n",
       "      <td>AIRPLANE</td>\n",
       "      <td>PISTON</td>\n",
       "      <td>AEROTAXI</td>\n",
       "      <td>RUN AFTER LANDING</td>\n",
       "      <td>AEROTAXI</td>\n",
       "    </tr>\n",
       "    <tr>\n",
       "      <th>3</th>\n",
       "      <td>AIRPLANE</td>\n",
       "      <td>PISTON</td>\n",
       "      <td>PRIVATE</td>\n",
       "      <td>RUN AFTER LANDING</td>\n",
       "      <td>PRIVATE</td>\n",
       "    </tr>\n",
       "    <tr>\n",
       "      <th>4</th>\n",
       "      <td>AIRPLANE</td>\n",
       "      <td>JET</td>\n",
       "      <td>REGULAR</td>\n",
       "      <td>ASCENSION</td>\n",
       "      <td>REGULAR</td>\n",
       "    </tr>\n",
       "  </tbody>\n",
       "</table>\n",
       "</div>"
      ],
      "text/plain": [
       "  equipment engine_type registration_aviation    operation_phase  \\\n",
       "0  AIRPLANE      PISTON           INSTRUCTION            UNKNOWN   \n",
       "1  AIRPLANE      PISTON           INSTRUCTION            TAKEOFF   \n",
       "2  AIRPLANE      PISTON              AEROTAXI  RUN AFTER LANDING   \n",
       "3  AIRPLANE      PISTON               PRIVATE  RUN AFTER LANDING   \n",
       "4  AIRPLANE         JET               REGULAR          ASCENSION   \n",
       "\n",
       "  type_operation  \n",
       "0    INSTRUCTION  \n",
       "1    INSTRUCTION  \n",
       "2       AEROTAXI  \n",
       "3        PRIVATE  \n",
       "4        REGULAR  "
      ]
     },
     "execution_count": 95,
     "metadata": {},
     "output_type": "execute_result"
    }
   ],
   "source": [
    "features = ['equipment', 'engine_type', 'registration_aviation', 'operation_phase', 'type_operation']\n",
    "\n",
    "print(features)\n",
    "data[features].head()"
   ]
  },
  {
   "cell_type": "code",
   "execution_count": 96,
   "metadata": {},
   "outputs": [],
   "source": [
    "features_data = pd.get_dummies(data[features])"
   ]
  },
  {
   "cell_type": "code",
   "execution_count": 97,
   "metadata": {},
   "outputs": [
    {
     "data": {
      "text/html": [
       "<div>\n",
       "<style scoped>\n",
       "    .dataframe tbody tr th:only-of-type {\n",
       "        vertical-align: middle;\n",
       "    }\n",
       "\n",
       "    .dataframe tbody tr th {\n",
       "        vertical-align: top;\n",
       "    }\n",
       "\n",
       "    .dataframe thead th {\n",
       "        text-align: right;\n",
       "    }\n",
       "</style>\n",
       "<table border=\"1\" class=\"dataframe\">\n",
       "  <thead>\n",
       "    <tr style=\"text-align: right;\">\n",
       "      <th></th>\n",
       "      <th>equipment_AIRPLANE</th>\n",
       "      <th>equipment_AIRSHIP</th>\n",
       "      <th>equipment_AMPHIBIOUS</th>\n",
       "      <th>equipment_GLIDER</th>\n",
       "      <th>equipment_HELICOPTER</th>\n",
       "      <th>equipment_ULTRALIGHT</th>\n",
       "      <th>equipment_UNKNOWN</th>\n",
       "      <th>engine_type_JET</th>\n",
       "      <th>engine_type_PISTON</th>\n",
       "      <th>engine_type_TURBOPROP</th>\n",
       "      <th>...</th>\n",
       "      <th>type_operation_AEROTAXI</th>\n",
       "      <th>type_operation_AGRICULTURAL</th>\n",
       "      <th>type_operation_EXPERIMENTAL</th>\n",
       "      <th>type_operation_INSTRUCTION</th>\n",
       "      <th>type_operation_NOT REGULAR</th>\n",
       "      <th>type_operation_POLICIAL</th>\n",
       "      <th>type_operation_PRIVATE</th>\n",
       "      <th>type_operation_REGULAR</th>\n",
       "      <th>type_operation_SPECIALIZED</th>\n",
       "      <th>type_operation_UNKNOWN</th>\n",
       "    </tr>\n",
       "  </thead>\n",
       "  <tbody>\n",
       "    <tr>\n",
       "      <th>0</th>\n",
       "      <td>1</td>\n",
       "      <td>0</td>\n",
       "      <td>0</td>\n",
       "      <td>0</td>\n",
       "      <td>0</td>\n",
       "      <td>0</td>\n",
       "      <td>0</td>\n",
       "      <td>0</td>\n",
       "      <td>1</td>\n",
       "      <td>0</td>\n",
       "      <td>...</td>\n",
       "      <td>0</td>\n",
       "      <td>0</td>\n",
       "      <td>0</td>\n",
       "      <td>1</td>\n",
       "      <td>0</td>\n",
       "      <td>0</td>\n",
       "      <td>0</td>\n",
       "      <td>0</td>\n",
       "      <td>0</td>\n",
       "      <td>0</td>\n",
       "    </tr>\n",
       "    <tr>\n",
       "      <th>1</th>\n",
       "      <td>1</td>\n",
       "      <td>0</td>\n",
       "      <td>0</td>\n",
       "      <td>0</td>\n",
       "      <td>0</td>\n",
       "      <td>0</td>\n",
       "      <td>0</td>\n",
       "      <td>0</td>\n",
       "      <td>1</td>\n",
       "      <td>0</td>\n",
       "      <td>...</td>\n",
       "      <td>0</td>\n",
       "      <td>0</td>\n",
       "      <td>0</td>\n",
       "      <td>1</td>\n",
       "      <td>0</td>\n",
       "      <td>0</td>\n",
       "      <td>0</td>\n",
       "      <td>0</td>\n",
       "      <td>0</td>\n",
       "      <td>0</td>\n",
       "    </tr>\n",
       "    <tr>\n",
       "      <th>2</th>\n",
       "      <td>1</td>\n",
       "      <td>0</td>\n",
       "      <td>0</td>\n",
       "      <td>0</td>\n",
       "      <td>0</td>\n",
       "      <td>0</td>\n",
       "      <td>0</td>\n",
       "      <td>0</td>\n",
       "      <td>1</td>\n",
       "      <td>0</td>\n",
       "      <td>...</td>\n",
       "      <td>1</td>\n",
       "      <td>0</td>\n",
       "      <td>0</td>\n",
       "      <td>0</td>\n",
       "      <td>0</td>\n",
       "      <td>0</td>\n",
       "      <td>0</td>\n",
       "      <td>0</td>\n",
       "      <td>0</td>\n",
       "      <td>0</td>\n",
       "    </tr>\n",
       "    <tr>\n",
       "      <th>3</th>\n",
       "      <td>1</td>\n",
       "      <td>0</td>\n",
       "      <td>0</td>\n",
       "      <td>0</td>\n",
       "      <td>0</td>\n",
       "      <td>0</td>\n",
       "      <td>0</td>\n",
       "      <td>0</td>\n",
       "      <td>1</td>\n",
       "      <td>0</td>\n",
       "      <td>...</td>\n",
       "      <td>0</td>\n",
       "      <td>0</td>\n",
       "      <td>0</td>\n",
       "      <td>0</td>\n",
       "      <td>0</td>\n",
       "      <td>0</td>\n",
       "      <td>1</td>\n",
       "      <td>0</td>\n",
       "      <td>0</td>\n",
       "      <td>0</td>\n",
       "    </tr>\n",
       "    <tr>\n",
       "      <th>4</th>\n",
       "      <td>1</td>\n",
       "      <td>0</td>\n",
       "      <td>0</td>\n",
       "      <td>0</td>\n",
       "      <td>0</td>\n",
       "      <td>0</td>\n",
       "      <td>0</td>\n",
       "      <td>1</td>\n",
       "      <td>0</td>\n",
       "      <td>0</td>\n",
       "      <td>...</td>\n",
       "      <td>0</td>\n",
       "      <td>0</td>\n",
       "      <td>0</td>\n",
       "      <td>0</td>\n",
       "      <td>0</td>\n",
       "      <td>0</td>\n",
       "      <td>0</td>\n",
       "      <td>1</td>\n",
       "      <td>0</td>\n",
       "      <td>0</td>\n",
       "    </tr>\n",
       "  </tbody>\n",
       "</table>\n",
       "<p>5 rows × 59 columns</p>\n",
       "</div>"
      ],
      "text/plain": [
       "   equipment_AIRPLANE  equipment_AIRSHIP  equipment_AMPHIBIOUS  \\\n",
       "0                   1                  0                     0   \n",
       "1                   1                  0                     0   \n",
       "2                   1                  0                     0   \n",
       "3                   1                  0                     0   \n",
       "4                   1                  0                     0   \n",
       "\n",
       "   equipment_GLIDER  equipment_HELICOPTER  equipment_ULTRALIGHT  \\\n",
       "0                 0                     0                     0   \n",
       "1                 0                     0                     0   \n",
       "2                 0                     0                     0   \n",
       "3                 0                     0                     0   \n",
       "4                 0                     0                     0   \n",
       "\n",
       "   equipment_UNKNOWN  engine_type_JET  engine_type_PISTON  \\\n",
       "0                  0                0                   1   \n",
       "1                  0                0                   1   \n",
       "2                  0                0                   1   \n",
       "3                  0                0                   1   \n",
       "4                  0                1                   0   \n",
       "\n",
       "   engine_type_TURBOPROP           ...            type_operation_AEROTAXI  \\\n",
       "0                      0           ...                                  0   \n",
       "1                      0           ...                                  0   \n",
       "2                      0           ...                                  1   \n",
       "3                      0           ...                                  0   \n",
       "4                      0           ...                                  0   \n",
       "\n",
       "   type_operation_AGRICULTURAL  type_operation_EXPERIMENTAL  \\\n",
       "0                            0                            0   \n",
       "1                            0                            0   \n",
       "2                            0                            0   \n",
       "3                            0                            0   \n",
       "4                            0                            0   \n",
       "\n",
       "   type_operation_INSTRUCTION  type_operation_NOT REGULAR  \\\n",
       "0                           1                           0   \n",
       "1                           1                           0   \n",
       "2                           0                           0   \n",
       "3                           0                           0   \n",
       "4                           0                           0   \n",
       "\n",
       "   type_operation_POLICIAL  type_operation_PRIVATE  type_operation_REGULAR  \\\n",
       "0                        0                       0                       0   \n",
       "1                        0                       0                       0   \n",
       "2                        0                       0                       0   \n",
       "3                        0                       1                       0   \n",
       "4                        0                       0                       1   \n",
       "\n",
       "   type_operation_SPECIALIZED  type_operation_UNKNOWN  \n",
       "0                           0                       0  \n",
       "1                           0                       0  \n",
       "2                           0                       0  \n",
       "3                           0                       0  \n",
       "4                           0                       0  \n",
       "\n",
       "[5 rows x 59 columns]"
      ]
     },
     "execution_count": 97,
     "metadata": {},
     "output_type": "execute_result"
    }
   ],
   "source": [
    "features_data.head()"
   ]
  },
  {
   "cell_type": "code",
   "execution_count": 98,
   "metadata": {},
   "outputs": [
    {
     "data": {
      "text/plain": [
       "pandas.core.frame.DataFrame"
      ]
     },
     "execution_count": 98,
     "metadata": {},
     "output_type": "execute_result"
    }
   ],
   "source": [
    "type(features_data)"
   ]
  },
  {
   "cell_type": "code",
   "execution_count": 99,
   "metadata": {},
   "outputs": [
    {
     "data": {
      "text/plain": [
       "0    3.0\n",
       "1    1.0\n",
       "2    3.0\n",
       "3    1.0\n",
       "4    2.0\n",
       "Name: damage_level, dtype: float64"
      ]
     },
     "execution_count": 99,
     "metadata": {},
     "output_type": "execute_result"
    }
   ],
   "source": [
    "data['damage_level'].head()"
   ]
  },
  {
   "cell_type": "code",
   "execution_count": 100,
   "metadata": {},
   "outputs": [
    {
     "ename": "ValueError",
     "evalue": "Input contains NaN, infinity or a value too large for dtype('float64').",
     "output_type": "error",
     "traceback": [
      "\u001b[0;31m---------------------------------------------------------------------------\u001b[0m",
      "\u001b[0;31mValueError\u001b[0m                                Traceback (most recent call last)",
      "\u001b[0;32m<ipython-input-100-8d178e7a1201>\u001b[0m in \u001b[0;36m<module>\u001b[0;34m()\u001b[0m\n\u001b[1;32m     16\u001b[0m                      )\n\u001b[1;32m     17\u001b[0m \u001b[0;34m\u001b[0m\u001b[0m\n\u001b[0;32m---> 18\u001b[0;31m \u001b[0mkfold_data\u001b[0m \u001b[0;34m=\u001b[0m \u001b[0mlist\u001b[0m\u001b[0;34m(\u001b[0m\u001b[0mcv\u001b[0m\u001b[0;34m.\u001b[0m\u001b[0msplit\u001b[0m\u001b[0;34m(\u001b[0m\u001b[0mfeatures_data\u001b[0m\u001b[0;34m,\u001b[0m \u001b[0mdata\u001b[0m\u001b[0;34m[\u001b[0m\u001b[0;34m'damage_level'\u001b[0m\u001b[0;34m]\u001b[0m\u001b[0;34m)\u001b[0m\u001b[0;34m)\u001b[0m\u001b[0;34m\u001b[0m\u001b[0m\n\u001b[0m",
      "\u001b[0;32m~/anaconda3/envs/learn-env/lib/python3.6/site-packages/sklearn/model_selection/_split.py\u001b[0m in \u001b[0;36msplit\u001b[0;34m(self, X, y, groups)\u001b[0m\n\u001b[1;32m    717\u001b[0m         \u001b[0mto\u001b[0m \u001b[0man\u001b[0m \u001b[0minteger\u001b[0m\u001b[0;34m.\u001b[0m\u001b[0;34m\u001b[0m\u001b[0m\n\u001b[1;32m    718\u001b[0m         \"\"\"\n\u001b[0;32m--> 719\u001b[0;31m         \u001b[0my\u001b[0m \u001b[0;34m=\u001b[0m \u001b[0mcheck_array\u001b[0m\u001b[0;34m(\u001b[0m\u001b[0my\u001b[0m\u001b[0;34m,\u001b[0m \u001b[0mensure_2d\u001b[0m\u001b[0;34m=\u001b[0m\u001b[0;32mFalse\u001b[0m\u001b[0;34m,\u001b[0m \u001b[0mdtype\u001b[0m\u001b[0;34m=\u001b[0m\u001b[0;32mNone\u001b[0m\u001b[0;34m)\u001b[0m\u001b[0;34m\u001b[0m\u001b[0m\n\u001b[0m\u001b[1;32m    720\u001b[0m         \u001b[0;32mreturn\u001b[0m \u001b[0msuper\u001b[0m\u001b[0;34m(\u001b[0m\u001b[0mStratifiedKFold\u001b[0m\u001b[0;34m,\u001b[0m \u001b[0mself\u001b[0m\u001b[0;34m)\u001b[0m\u001b[0;34m.\u001b[0m\u001b[0msplit\u001b[0m\u001b[0;34m(\u001b[0m\u001b[0mX\u001b[0m\u001b[0;34m,\u001b[0m \u001b[0my\u001b[0m\u001b[0;34m,\u001b[0m \u001b[0mgroups\u001b[0m\u001b[0;34m)\u001b[0m\u001b[0;34m\u001b[0m\u001b[0m\n\u001b[1;32m    721\u001b[0m \u001b[0;34m\u001b[0m\u001b[0m\n",
      "\u001b[0;32m~/anaconda3/envs/learn-env/lib/python3.6/site-packages/sklearn/utils/validation.py\u001b[0m in \u001b[0;36mcheck_array\u001b[0;34m(array, accept_sparse, accept_large_sparse, dtype, order, copy, force_all_finite, ensure_2d, allow_nd, ensure_min_samples, ensure_min_features, warn_on_dtype, estimator)\u001b[0m\n\u001b[1;32m    571\u001b[0m         \u001b[0;32mif\u001b[0m \u001b[0mforce_all_finite\u001b[0m\u001b[0;34m:\u001b[0m\u001b[0;34m\u001b[0m\u001b[0m\n\u001b[1;32m    572\u001b[0m             _assert_all_finite(array,\n\u001b[0;32m--> 573\u001b[0;31m                                allow_nan=force_all_finite == 'allow-nan')\n\u001b[0m\u001b[1;32m    574\u001b[0m \u001b[0;34m\u001b[0m\u001b[0m\n\u001b[1;32m    575\u001b[0m     \u001b[0mshape_repr\u001b[0m \u001b[0;34m=\u001b[0m \u001b[0m_shape_repr\u001b[0m\u001b[0;34m(\u001b[0m\u001b[0marray\u001b[0m\u001b[0;34m.\u001b[0m\u001b[0mshape\u001b[0m\u001b[0;34m)\u001b[0m\u001b[0;34m\u001b[0m\u001b[0m\n",
      "\u001b[0;32m~/anaconda3/envs/learn-env/lib/python3.6/site-packages/sklearn/utils/validation.py\u001b[0m in \u001b[0;36m_assert_all_finite\u001b[0;34m(X, allow_nan)\u001b[0m\n\u001b[1;32m     54\u001b[0m                 not allow_nan and not np.isfinite(X).all()):\n\u001b[1;32m     55\u001b[0m             \u001b[0mtype_err\u001b[0m \u001b[0;34m=\u001b[0m \u001b[0;34m'infinity'\u001b[0m \u001b[0;32mif\u001b[0m \u001b[0mallow_nan\u001b[0m \u001b[0;32melse\u001b[0m \u001b[0;34m'NaN, infinity'\u001b[0m\u001b[0;34m\u001b[0m\u001b[0m\n\u001b[0;32m---> 56\u001b[0;31m             \u001b[0;32mraise\u001b[0m \u001b[0mValueError\u001b[0m\u001b[0;34m(\u001b[0m\u001b[0mmsg_err\u001b[0m\u001b[0;34m.\u001b[0m\u001b[0mformat\u001b[0m\u001b[0;34m(\u001b[0m\u001b[0mtype_err\u001b[0m\u001b[0;34m,\u001b[0m \u001b[0mX\u001b[0m\u001b[0;34m.\u001b[0m\u001b[0mdtype\u001b[0m\u001b[0;34m)\u001b[0m\u001b[0;34m)\u001b[0m\u001b[0;34m\u001b[0m\u001b[0m\n\u001b[0m\u001b[1;32m     57\u001b[0m \u001b[0;34m\u001b[0m\u001b[0m\n\u001b[1;32m     58\u001b[0m \u001b[0;34m\u001b[0m\u001b[0m\n",
      "\u001b[0;31mValueError\u001b[0m: Input contains NaN, infinity or a value too large for dtype('float64')."
     ]
    }
   ],
   "source": [
    "# the following keras code is adapted from https://www.kaggle.com/chadwickcasper/deep-music\n",
    "\n",
    "# Split the data into 10 different folds, each containing the whole set\n",
    "# The folds contain two parts:\n",
    "# index:0 the larger (9/10's) piece - (the features)\n",
    "# index:1 the smaller (1/10's) piece - (the label)\n",
    "\n",
    "from sklearn.model_selection import StratifiedKFold\n",
    "import random\n",
    "\n",
    "folds = 10\n",
    "random_state = random_state = random.randint(1, 65536)\n",
    "cv = StratifiedKFold(n_splits=folds,\n",
    "                     shuffle=True,\n",
    "                     random_state=random_state,\n",
    "                     )\n",
    "\n",
    "kfold_data = list(cv.split(features_data, data['damage_level']))\n"
   ]
  },
  {
   "cell_type": "code",
   "execution_count": null,
   "metadata": {},
   "outputs": [],
   "source": [
    "#  import keras libraries\n",
    "\n",
    "from tensorflow import keras\n",
    "from keras import models\n",
    "from keras import layers\n",
    "from keras import optimizers"
   ]
  },
  {
   "cell_type": "code",
   "execution_count": null,
   "metadata": {},
   "outputs": [],
   "source": []
  },
  {
   "cell_type": "code",
   "execution_count": null,
   "metadata": {},
   "outputs": [],
   "source": [
    "model = models.Sequential([\n",
    "    layers.Dense(28, activation='relu'),\n",
    "    layers.Dense(19, activation='relu'),\n",
    "    layers.Dense(10, activation='softmax')\n",
    "])"
   ]
  },
  {
   "cell_type": "code",
   "execution_count": null,
   "metadata": {},
   "outputs": [],
   "source": []
  },
  {
   "cell_type": "code",
   "execution_count": null,
   "metadata": {},
   "outputs": [],
   "source": [
    "# Compile the model\n",
    "\n",
    "model.compile(optimizer='adam',\n",
    "              loss='sparse_categorical_crossentropy',\n",
    "              metrics=['accuracy'])"
   ]
  },
  {
   "cell_type": "code",
   "execution_count": null,
   "metadata": {},
   "outputs": [],
   "source": []
  },
  {
   "cell_type": "code",
   "execution_count": null,
   "metadata": {},
   "outputs": [],
   "source": [
    "first_fold = kfold_data[0]\n",
    "train_indices, test_indices = first_fold[0], first_fold[1]\n",
    "\n",
    "train_data = features_data.iloc[train_indices]\n",
    "train_labels = data['damage_level'].iloc[train_indices]\n",
    "\n",
    "test_data = data.iloc[test_indices]\n",
    "test_labels = data['damage_level'].iloc[test_indices]"
   ]
  },
  {
   "cell_type": "code",
   "execution_count": null,
   "metadata": {},
   "outputs": [],
   "source": []
  },
  {
   "cell_type": "code",
   "execution_count": null,
   "metadata": {},
   "outputs": [],
   "source": [
    "# Train the model\n",
    "history = model.fit(train_data.values, train_labels.values, epochs=150)"
   ]
  },
  {
   "cell_type": "markdown",
   "metadata": {},
   "source": [
    "## error here if it makes it this far : ValueError: could not convert string to float: 'AIRPLANE'"
   ]
  },
  {
   "cell_type": "code",
   "execution_count": null,
   "metadata": {},
   "outputs": [],
   "source": []
  },
  {
   "cell_type": "code",
   "execution_count": null,
   "metadata": {},
   "outputs": [],
   "source": [
    "# print the labels of the history contents:\n",
    "print(history.history.keys())\n",
    "\n",
    "# graph the results for the one fold model\n",
    "# summarize history for accuracy\n",
    "plt.plot(history.history['acc'], color = 'steelblue')\n",
    "plt.title('model accuracy')\n",
    "plt.ylabel('accuracy')\n",
    "plt.xlabel('epoch')\n",
    "plt.legend(['train'], loc='upper right')\n",
    "plt.show()\n",
    "\n",
    "# summarize history for loss\n",
    "plt.plot(history.history['loss'], color = 'm')\n",
    "plt.title('model loss')\n",
    "plt.ylabel('loss')\n",
    "plt.xlabel('epoch')\n",
    "plt.legend(['train'], loc='upper right')\n",
    "plt.show()"
   ]
  },
  {
   "cell_type": "code",
   "execution_count": null,
   "metadata": {},
   "outputs": [],
   "source": []
  },
  {
   "cell_type": "code",
   "execution_count": null,
   "metadata": {},
   "outputs": [],
   "source": []
  },
  {
   "cell_type": "code",
   "execution_count": null,
   "metadata": {},
   "outputs": [],
   "source": [
    "fig, axs = plt.subplots(2,1, figsize=(12,9), constrained_layout=True)\n",
    "\n",
    "for i, fold_ind in enumerate(kfold_data[:]):\n",
    "    print('Training on fold {} ...'.format(i))\n",
    "    train_indices, test_indices = fold_ind[0], fold_ind[1]\n",
    "    train_data = norm_df.iloc[train_indices]\n",
    "    train_labels = data['label'].iloc[train_indices]\n",
    "    test_data = norm_df.iloc[test_indices]\n",
    "    test_labels = data['label'].iloc[test_indices]\n",
    "    \n",
    "    model = keras.Sequential([\n",
    "        keras.layers.Dense(28, activation='relu'),\n",
    "        keras.layers.Dense(19, activation='relu'),\n",
    "        keras.layers.Dense(10, activation='softmax')\n",
    "    ])\n",
    "\n",
    "    model.compile(optimizer='adam',\n",
    "                  loss='sparse_categorical_crossentropy',\n",
    "                  metrics=['accuracy'])\n",
    "    \n",
    "    history = model.fit(train_data.values,\n",
    "                        train_labels.values,\n",
    "                        epochs=100,\n",
    "                        batch_size=16,\n",
    "                        validation_data=(test_data.values, test_labels.values),\n",
    "                        verbose=0\n",
    "                       )\n",
    "    \n",
    "    # summarize history for accuracy\n",
    "    axs[0].plot(history.history['acc'], label='acc_'+str(i))\n",
    "    axs[0].plot(history.history['val_acc'], label='val_acc_'+str(i))\n",
    "\n",
    "    # summarize history for loss\n",
    "    axs[1].plot(history.history['loss'], label='loss_'+str(i))\n",
    "    axs[1].plot(history.history['val_loss'], label='val_loss_'+str(i))\n",
    "\n",
    "axs[0].set_title('model accuracy')\n",
    "axs[0].set_ylabel('accuracy')\n",
    "axs[0].set_xlabel('epoch')\n",
    "axs[0].grid(True, which='major')\n",
    "# axs[0].legend(loc='upper left')\n",
    "\n",
    "axs[1].set_title('model loss')\n",
    "axs[1].set_ylabel('loss')\n",
    "axs[1].set_xlabel('epoch')\n",
    "axs[1].grid(True, which='major')\n",
    "# axs[1].legend(loc='upper left')"
   ]
  },
  {
   "cell_type": "code",
   "execution_count": null,
   "metadata": {},
   "outputs": [],
   "source": []
  },
  {
   "cell_type": "code",
   "execution_count": null,
   "metadata": {},
   "outputs": [],
   "source": [
    "# print the loss and accuracy for the training data\n",
    "\n",
    "model.evaluate(train_data.values, train_labels.values)"
   ]
  },
  {
   "cell_type": "code",
   "execution_count": null,
   "metadata": {},
   "outputs": [],
   "source": []
  },
  {
   "cell_type": "code",
   "execution_count": null,
   "metadata": {},
   "outputs": [],
   "source": [
    "# print the accuracy for the testing data\n",
    "\n",
    "model.evaluate(test_data.values, test_labels.values)"
   ]
  },
  {
   "cell_type": "code",
   "execution_count": null,
   "metadata": {},
   "outputs": [],
   "source": []
  },
  {
   "cell_type": "code",
   "execution_count": null,
   "metadata": {},
   "outputs": [],
   "source": [
    "fig, axs = plt.subplots(2,1, figsize=(12,9), constrained_layout=True)\n",
    "\n",
    "for i, fold_ind in enumerate(kfold_data[:]):\n",
    "    print('Training on fold {} ...'.format(i))\n",
    "    train_indices, test_indices = fold_ind[0], fold_ind[1]\n",
    "    train_data = norm_df.iloc[train_indices]\n",
    "    train_labels = data['label'].iloc[train_indices]\n",
    "    test_data = norm_df.iloc[test_indices]\n",
    "    test_labels = data['label'].iloc[test_indices]\n",
    "    \n",
    "    model = keras.Sequential([\n",
    "        keras.layers.Dense(28, activation='relu'),\n",
    "        keras.layers.Dropout(0.2),\n",
    "        keras.layers.Dense(19, activation='relu'),\n",
    "        keras.layers.Dropout(0.2),\n",
    "        keras.layers.Dense(10, activation='softmax')\n",
    "    ])\n",
    "\n",
    "    model.compile(optimizer='adam',\n",
    "                  loss='sparse_categorical_crossentropy',\n",
    "                  metrics=['accuracy'])\n",
    "    \n",
    "    history = model.fit(train_data.values,\n",
    "                        train_labels.values,\n",
    "                        epochs=100,\n",
    "                        batch_size=16,\n",
    "                        validation_data=(test_data.values, test_labels.values),\n",
    "                        verbose=0\n",
    "                       )\n",
    "\n",
    "    # summarize history for accuracy\n",
    "    axs[0].plot(history.history['acc'], label='acc_'+str(i))\n",
    "    axs[0].plot(history.history['val_acc'], label='val_acc_'+str(i))\n",
    "\n",
    "    # summarize history for loss\n",
    "    axs[1].plot(history.history['loss'], label='loss_'+str(i))\n",
    "    axs[1].plot(history.history['val_loss'], label='val_loss_'+str(i))\n",
    "\n",
    "axs[0].set_title('model accuracy')\n",
    "axs[0].set_ylabel('accuracy')\n",
    "axs[0].set_xlabel('epoch')\n",
    "axs[0].grid(True, which='major')\n",
    "\n",
    "axs[1].set_title('model loss')\n",
    "axs[1].set_ylabel('loss')\n",
    "axs[1].set_xlabel('epoch')\n",
    "axs[1].grid(True, which='major')\n",
    "\n",
    "print(history.history.keys())\n",
    "print('Test Accuracy = ', history.history['val_acc'])"
   ]
  },
  {
   "cell_type": "code",
   "execution_count": null,
   "metadata": {},
   "outputs": [],
   "source": []
  },
  {
   "cell_type": "code",
   "execution_count": null,
   "metadata": {},
   "outputs": [],
   "source": [
    "# print the loss and accuracy for the training data\n",
    "\n",
    "model.evaluate(train_data.values, train_labels.values)"
   ]
  },
  {
   "cell_type": "code",
   "execution_count": null,
   "metadata": {},
   "outputs": [],
   "source": []
  },
  {
   "cell_type": "code",
   "execution_count": null,
   "metadata": {},
   "outputs": [],
   "source": [
    "# print the accuracy for the testing data\n",
    "\n",
    "test_loss, test_acc = model.evaluate(test_data.values, test_labels.values)\n",
    "\n",
    "print('\\nTest accuracy:', test_acc)"
   ]
  },
  {
   "cell_type": "code",
   "execution_count": null,
   "metadata": {},
   "outputs": [],
   "source": []
  },
  {
   "cell_type": "code",
   "execution_count": null,
   "metadata": {},
   "outputs": [],
   "source": [
    "fig, axs = plt.subplots(2,1, figsize=(12,9), constrained_layout=True)\n",
    "\n",
    "for i, fold_ind in enumerate(kfold_data[:]):\n",
    "    print('Training on fold {} ...'.format(i))\n",
    "    train_indices, test_indices = fold_ind[0], fold_ind[1]\n",
    "    train_data = norm_df.iloc[train_indices]\n",
    "    train_labels = data['label'].iloc[train_indices]\n",
    "    test_data = norm_df.iloc[test_indices]\n",
    "    test_labels = data['label'].iloc[test_indices]\n",
    "    \n",
    "    model = keras.Sequential([\n",
    "        keras.layers.Dense(28, activation='relu'),\n",
    "        keras.layers.Dropout(0.2),\n",
    "        keras.layers.Dense(19, activation='relu'),\n",
    "        keras.layers.Dropout(0.2),\n",
    "        keras.layers.Dense(10, activation='softmax')\n",
    "    ])\n",
    "\n",
    "    model.compile(optimizer='adam',\n",
    "                  loss='sparse_categorical_crossentropy',\n",
    "                  metrics=['accuracy'])\n",
    "    \n",
    "    history = model.fit(train_data.values,\n",
    "                        train_labels.values,\n",
    "                        epochs=500,\n",
    "                        batch_size=16,\n",
    "                        validation_data=(test_data.values, test_labels.values),\n",
    "                        verbose=0\n",
    "                       )\n",
    "    \n",
    "    # summarize history for accuracy\n",
    "    axs[0].plot(history.history['acc'], label='acc_'+str(i))\n",
    "    axs[0].plot(history.history['val_acc'], label='val_acc_'+str(i))\n",
    "\n",
    "    # summarize history for loss\n",
    "    axs[1].plot(history.history['loss'], label='loss_'+str(i))\n",
    "    axs[1].plot(history.history['val_loss'], label='val_loss_'+str(i))\n",
    "\n",
    "axs[0].set_title('model accuracy')\n",
    "axs[0].set_ylabel('accuracy')\n",
    "axs[0].set_xlabel('epoch')\n",
    "axs[0].grid(True, which='major')\n",
    "# axs[0].legend(loc='upper left')\n",
    "\n",
    "axs[1].set_title('model loss')\n",
    "axs[1].set_ylabel('loss')\n",
    "axs[1].set_xlabel('epoch')\n",
    "axs[1].grid(True, which='major')\n",
    "# axs[1].legend(loc='upper left')"
   ]
  },
  {
   "cell_type": "code",
   "execution_count": null,
   "metadata": {},
   "outputs": [],
   "source": []
  },
  {
   "cell_type": "code",
   "execution_count": null,
   "metadata": {},
   "outputs": [],
   "source": [
    "# print the loss and accuracy for the training data\n",
    "\n",
    "model.evaluate(train_data.values, train_labels.values)"
   ]
  },
  {
   "cell_type": "code",
   "execution_count": null,
   "metadata": {},
   "outputs": [],
   "source": []
  },
  {
   "cell_type": "code",
   "execution_count": null,
   "metadata": {},
   "outputs": [],
   "source": [
    "# print the accuracy for the testing data\n",
    "\n",
    "test_loss, test_acc = model.evaluate(test_data.values, test_labels.values)\n",
    "\n",
    "print('\\nTest accuracy:', test_acc)"
   ]
  },
  {
   "cell_type": "code",
   "execution_count": null,
   "metadata": {},
   "outputs": [],
   "source": []
  },
  {
   "cell_type": "code",
   "execution_count": null,
   "metadata": {},
   "outputs": [],
   "source": [
    "# https://github.com/arseniyturin/dsc-4-final-project-online-ds-sp-000/blob/master/student.ipynb\n",
    "\n",
    "epochs = range(1, len(history.history['acc']) + 1)\n",
    "plt.style.use('seaborn-whitegrid')\n",
    "plt.figure(figsize=(12,6))\n",
    "\n",
    "plt.plot(epochs, history.history['acc'], 'orange', label='Training acc')\n",
    "plt.plot(epochs, history.history['val_acc'], 'steelblue', label='Validation acc')\n",
    "plt.title('Training & Validation accuracy', fontSize=14)\n",
    "plt.xlabel('Epochs')\n",
    "plt.ylabel('Loss')\n",
    "plt.legend()\n",
    "plt.show()"
   ]
  },
  {
   "cell_type": "code",
   "execution_count": null,
   "metadata": {},
   "outputs": [],
   "source": []
  },
  {
   "cell_type": "code",
   "execution_count": null,
   "metadata": {},
   "outputs": [],
   "source": [
    "# https://github.com/arseniyturin/dsc-4-final-project-online-ds-sp-000/blob/master/student.ipynb\n",
    "\n",
    "plt.style.use('seaborn-whitegrid')\n",
    "plt.figure(figsize=(12,6))\n",
    "\n",
    "plt.plot(epochs, history.history['loss'], 'g', label='Training loss')\n",
    "plt.plot(epochs, history.history['val_loss'], 'm', label='Validation loss')\n",
    "\n",
    "plt.title('Training & Validation loss',fontSize=14)\n",
    "plt.xlabel('Epochs')\n",
    "plt.ylabel('Loss')\n",
    "plt.legend()\n",
    "plt.show()\n"
   ]
  },
  {
   "cell_type": "code",
   "execution_count": null,
   "metadata": {},
   "outputs": [],
   "source": []
  },
  {
   "cell_type": "code",
   "execution_count": null,
   "metadata": {},
   "outputs": [],
   "source": [
    "y_hat = model.predict(X)\n",
    "y_hat"
   ]
  },
  {
   "cell_type": "code",
   "execution_count": null,
   "metadata": {},
   "outputs": [],
   "source": []
  },
  {
   "cell_type": "code",
   "execution_count": null,
   "metadata": {},
   "outputs": [],
   "source": [
    "# final evaluation for the training data\n",
    "\n",
    "model.evaluate(train_data.values, train_labels.values)"
   ]
  },
  {
   "cell_type": "code",
   "execution_count": null,
   "metadata": {},
   "outputs": [],
   "source": [
    "# final evaluation for the testing data\n",
    "model.evaluate(test_data.values, test_labels.values)"
   ]
  },
  {
   "cell_type": "markdown",
   "metadata": {},
   "source": [
    "## Conclusion:"
   ]
  },
  {
   "cell_type": "code",
   "execution_count": null,
   "metadata": {},
   "outputs": [],
   "source": []
  },
  {
   "cell_type": "markdown",
   "metadata": {},
   "source": [
    "# Work for Further Consideration"
   ]
  },
  {
   "cell_type": "code",
   "execution_count": null,
   "metadata": {},
   "outputs": [],
   "source": []
  },
  {
   "cell_type": "code",
   "execution_count": null,
   "metadata": {},
   "outputs": [],
   "source": []
  }
 ],
 "metadata": {
  "kernelspec": {
   "display_name": "learn-env",
   "language": "python",
   "name": "learn-env"
  },
  "language_info": {
   "codemirror_mode": {
    "name": "ipython",
    "version": 3
   },
   "file_extension": ".py",
   "mimetype": "text/x-python",
   "name": "python",
   "nbconvert_exporter": "python",
   "pygments_lexer": "ipython3",
   "version": "3.6.6"
  }
 },
 "nbformat": 4,
 "nbformat_minor": 2
}
